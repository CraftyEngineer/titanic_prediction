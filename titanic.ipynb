{
 "cells": [
  {
   "cell_type": "code",
   "execution_count": 1,
   "id": "bd1025c2",
   "metadata": {
    "_cell_guid": "b1076dfc-b9ad-4769-8c92-a6c4dae69d19",
    "_uuid": "8f2839f25d086af736a60e9eeb907d3b93b6e0e5",
    "execution": {
     "iopub.execute_input": "2025-05-24T20:25:38.068022Z",
     "iopub.status.busy": "2025-05-24T20:25:38.067637Z",
     "iopub.status.idle": "2025-05-24T20:26:00.721015Z",
     "shell.execute_reply": "2025-05-24T20:26:00.719980Z"
    },
    "papermill": {
     "duration": 22.659941,
     "end_time": "2025-05-24T20:26:00.722797",
     "exception": false,
     "start_time": "2025-05-24T20:25:38.062856",
     "status": "completed"
    },
    "tags": []
   },
   "outputs": [
    {
     "name": "stderr",
     "output_type": "stream",
     "text": [
      "2025-05-24 20:25:44.423981: E external/local_xla/xla/stream_executor/cuda/cuda_fft.cc:477] Unable to register cuFFT factory: Attempting to register factory for plugin cuFFT when one has already been registered\n",
      "WARNING: All log messages before absl::InitializeLog() is called are written to STDERR\n",
      "E0000 00:00:1748118344.704307      13 cuda_dnn.cc:8310] Unable to register cuDNN factory: Attempting to register factory for plugin cuDNN when one has already been registered\n",
      "E0000 00:00:1748118344.780411      13 cuda_blas.cc:1418] Unable to register cuBLAS factory: Attempting to register factory for plugin cuBLAS when one has already been registered\n"
     ]
    },
    {
     "name": "stdout",
     "output_type": "stream",
     "text": [
      "/kaggle/input/titanic-test/titanic_test.csv\n",
      "/kaggle/input/titanic-train/titanic_train.csv\n"
     ]
    }
   ],
   "source": [
    "# This Python 3 environment comes with many helpful analytics libraries installed\n",
    "# It is defined by the kaggle/python Docker image: https://github.com/kaggle/docker-python\n",
    "# For example, here's several helpful packages to load\n",
    "\n",
    "import numpy as np # linear algebra\n",
    "import pandas as pd # data processing, CSV file I/O (e.g. pd.read_csv)\n",
    "from sklearn.preprocessing import StandardScaler\n",
    "from sklearn.model_selection import train_test_split\n",
    "from sklearn import svm\n",
    "from sklearn.metrics import accuracy_score\n",
    "from sklearn.ensemble import RandomForestClassifier\n",
    "import tensorflow as tf\n",
    "from tensorflow.keras.models import Sequential\n",
    "from tensorflow.keras.layers import Input, Dense, Dropout\n",
    "from xgboost import XGBClassifier\n",
    "from sklearn.model_selection import cross_val_score\n",
    "\n",
    "# Input data files are available in the read-only \"../input/\" directory\n",
    "# For example, running this (by clicking run or pressing Shift+Enter) will list all files under the input directory\n",
    "\n",
    "import os\n",
    "for dirname, _, filenames in os.walk('/kaggle/input'):\n",
    "    for filename in filenames:\n",
    "        print(os.path.join(dirname, filename))\n",
    "\n",
    "# You can write up to 20GB to the current directory (/kaggle/working/) that gets preserved as output when you create a version using \"Save & Run All\" \n",
    "# You can also write temporary files to /kaggle/temp/, but they won't be saved outside of the current session"
   ]
  },
  {
   "cell_type": "code",
   "execution_count": 2,
   "id": "366969fd",
   "metadata": {
    "execution": {
     "iopub.execute_input": "2025-05-24T20:26:00.731122Z",
     "iopub.status.busy": "2025-05-24T20:26:00.730145Z",
     "iopub.status.idle": "2025-05-24T20:26:00.760227Z",
     "shell.execute_reply": "2025-05-24T20:26:00.759463Z"
    },
    "papermill": {
     "duration": 0.035663,
     "end_time": "2025-05-24T20:26:00.761915",
     "exception": false,
     "start_time": "2025-05-24T20:26:00.726252",
     "status": "completed"
    },
    "tags": []
   },
   "outputs": [],
   "source": [
    "titanic_train_dataset = pd.read_csv('/kaggle/input/titanic-train/titanic_train.csv')\n",
    "titanic_test_dataset = pd.read_csv('/kaggle/input/titanic-test/titanic_test.csv')"
   ]
  },
  {
   "cell_type": "code",
   "execution_count": 3,
   "id": "97e3ca24",
   "metadata": {
    "execution": {
     "iopub.execute_input": "2025-05-24T20:26:00.769591Z",
     "iopub.status.busy": "2025-05-24T20:26:00.769183Z",
     "iopub.status.idle": "2025-05-24T20:26:00.807223Z",
     "shell.execute_reply": "2025-05-24T20:26:00.806281Z"
    },
    "papermill": {
     "duration": 0.043774,
     "end_time": "2025-05-24T20:26:00.809026",
     "exception": false,
     "start_time": "2025-05-24T20:26:00.765252",
     "status": "completed"
    },
    "tags": []
   },
   "outputs": [],
   "source": [
    "titanic_train_dataset['Sex'] = titanic_train_dataset['Sex'].map({'male': 0, 'female': 1}).fillna(-1)\n",
    "titanic_train_dataset['Embarked'] = titanic_train_dataset['Embarked'].map({'S': 0, 'C': 1, 'Q': 2}).fillna(-1)\n",
    "titanic_train_dataset['Title'] = titanic_train_dataset['Name'].str.extract(' ([A-Za-z]+)\\.', expand=False)\n",
    "titanic_train_dataset['Age'] = titanic_train_dataset.groupby('Title')['Age'].transform(lambda x: x.fillna(x.median()))\n",
    "titanic_train_dataset['HasCabin'] = titanic_train_dataset['Cabin'].notna().astype(int)\n",
    "titanic_train_dataset['FamilySize'] = titanic_train_dataset['SibSp'] + titanic_train_dataset['Parch'] + 1\n",
    "titanic_train_dataset['IsAlone'] = (titanic_train_dataset['FamilySize'] == 1).astype(int)\n",
    "\n",
    "\n",
    "X = titanic_train_dataset.drop(columns = ['Survived', 'PassengerId', 'Ticket', 'Name', 'Cabin', 'Title'])\n",
    "Y = titanic_train_dataset['Survived']"
   ]
  },
  {
   "cell_type": "code",
   "execution_count": 4,
   "id": "bcbdab59",
   "metadata": {
    "execution": {
     "iopub.execute_input": "2025-05-24T20:26:00.816569Z",
     "iopub.status.busy": "2025-05-24T20:26:00.816195Z",
     "iopub.status.idle": "2025-05-24T20:26:00.840360Z",
     "shell.execute_reply": "2025-05-24T20:26:00.839351Z"
    },
    "papermill": {
     "duration": 0.029882,
     "end_time": "2025-05-24T20:26:00.842076",
     "exception": false,
     "start_time": "2025-05-24T20:26:00.812194",
     "status": "completed"
    },
    "tags": []
   },
   "outputs": [],
   "source": [
    "scaler = StandardScaler()\n",
    "scaler.fit(X)\n",
    "X = scaler.transform(X)"
   ]
  },
  {
   "cell_type": "code",
   "execution_count": 5,
   "id": "28511a41",
   "metadata": {
    "execution": {
     "iopub.execute_input": "2025-05-24T20:26:00.850130Z",
     "iopub.status.busy": "2025-05-24T20:26:00.849210Z",
     "iopub.status.idle": "2025-05-24T20:26:00.880919Z",
     "shell.execute_reply": "2025-05-24T20:26:00.879644Z"
    },
    "papermill": {
     "duration": 0.03774,
     "end_time": "2025-05-24T20:26:00.882911",
     "exception": false,
     "start_time": "2025-05-24T20:26:00.845171",
     "status": "completed"
    },
    "tags": []
   },
   "outputs": [
    {
     "name": "stdout",
     "output_type": "stream",
     "text": [
      "❓ Nulls in X_TEST: PassengerId      0\n",
      "Pclass           0\n",
      "Name             0\n",
      "Sex              0\n",
      "Age              0\n",
      "SibSp            0\n",
      "Parch            0\n",
      "Ticket           0\n",
      "Fare             0\n",
      "Cabin          327\n",
      "Embarked         0\n",
      "Title            0\n",
      "HasCabin         0\n",
      "FamilySize       0\n",
      "IsAlone          0\n",
      "dtype: int64\n",
      "🔥 Any NaNs before scaling? 0\n"
     ]
    }
   ],
   "source": [
    "titanic_test_dataset['Sex'] = titanic_test_dataset['Sex'].map({'male': 0, 'female': 1}).fillna(-1)\n",
    "titanic_test_dataset['Embarked'] = titanic_test_dataset['Embarked'].map({'S': 0, 'C': 1, 'Q': 2}).fillna(-1)\n",
    "# Step 1: Combine train + test to calculate age medians\n",
    "combined = pd.concat([titanic_train_dataset, titanic_test_dataset], sort=False)\n",
    "title_age_median = combined.groupby('Title')['Age'].median()\n",
    "\n",
    "# Step 2: Map those medians to test data (after extracting Title)\n",
    "titanic_test_dataset['Title'] = titanic_test_dataset['Name'].str.extract(' ([A-Za-z]+)\\.', expand=False)\n",
    "titanic_test_dataset['Age'] = titanic_test_dataset.apply(\n",
    "    lambda row: title_age_median[row['Title']] if pd.isna(row['Age']) else row['Age'], axis=1\n",
    ")\n",
    "\n",
    "titanic_test_dataset['HasCabin'] = titanic_test_dataset['Cabin'].notna().astype(int)\n",
    "titanic_test_dataset['FamilySize'] = titanic_test_dataset['SibSp'] + titanic_test_dataset['Parch'] + 1\n",
    "titanic_test_dataset['IsAlone'] = (titanic_test_dataset['FamilySize'] == 1).astype(int)\n",
    "titanic_test_dataset['Fare'] = titanic_test_dataset['Fare'].fillna(titanic_test_dataset['Fare'].median())\n",
    "\n",
    "\n",
    "print(\"❓ Nulls in X_TEST:\", titanic_test_dataset.isnull().sum())\n",
    "\n",
    "X_TEST = titanic_test_dataset.drop(columns = ['PassengerId', 'Ticket', 'Name', 'Cabin', 'Title'])\n",
    "print(\"🔥 Any NaNs before scaling?\", pd.DataFrame(X_TEST).isna().sum().sum())\n",
    "X_TEST = scaler.transform(X_TEST)\n"
   ]
  },
  {
   "cell_type": "code",
   "execution_count": 6,
   "id": "c83ebe89",
   "metadata": {
    "execution": {
     "iopub.execute_input": "2025-05-24T20:26:00.890688Z",
     "iopub.status.busy": "2025-05-24T20:26:00.890293Z",
     "iopub.status.idle": "2025-05-24T20:26:00.901533Z",
     "shell.execute_reply": "2025-05-24T20:26:00.900643Z"
    },
    "papermill": {
     "duration": 0.016986,
     "end_time": "2025-05-24T20:26:00.903203",
     "exception": false,
     "start_time": "2025-05-24T20:26:00.886217",
     "status": "completed"
    },
    "tags": []
   },
   "outputs": [],
   "source": [
    "X_train, X_val, Y_train, Y_val = train_test_split(X, Y, test_size=0.2, stratify=Y, random_state=42)\n"
   ]
  },
  {
   "cell_type": "code",
   "execution_count": 7,
   "id": "acec1cd7",
   "metadata": {
    "execution": {
     "iopub.execute_input": "2025-05-24T20:26:00.910753Z",
     "iopub.status.busy": "2025-05-24T20:26:00.910415Z",
     "iopub.status.idle": "2025-05-24T20:26:00.967979Z",
     "shell.execute_reply": "2025-05-24T20:26:00.966808Z"
    },
    "papermill": {
     "duration": 0.063262,
     "end_time": "2025-05-24T20:26:00.969741",
     "exception": false,
     "start_time": "2025-05-24T20:26:00.906479",
     "status": "completed"
    },
    "tags": []
   },
   "outputs": [
    {
     "name": "stdout",
     "output_type": "stream",
     "text": [
      "🔥 Training Accuracy: 0.7907303370786517\n",
      "🧪 Validation Accuracy: 0.7877094972067039\n",
      "🧊 Test Predictions: [0 1 0 0 1 0 1 0 1 0 0 0 1 0 1 1 0 0 1 1 0 0 1 0 1 0 1 0 0 0 0 0 1 1 0 0 1\n",
      " 1 0 0 0 0 0 1 1 0 0 0 1 1 0 0 1 1 0 0 0 0 0 1 0 0 0 1 0 1 1 0 0 1 1 0 1 0\n",
      " 1 0 0 1 0 1 0 0 0 0 0 0 1 1 1 0 1 0 1 0 0 0 1 0 1 0 1 0 0 0 1 0 0 0 0 0 0\n",
      " 1 1 1 1 0 0 1 0 1 1 0 1 0 0 1 0 1 0 0 0 0 1 0 0 0 0 0 1 0 0 1 0 0 0 0 0 0\n",
      " 0 0 1 0 0 1 0 0 1 1 0 1 1 0 1 0 0 1 0 0 1 1 0 0 0 0 0 1 1 0 1 1 0 0 1 0 1\n",
      " 0 1 0 0 0 0 0 0 0 0 0 0 1 0 1 1 0 0 1 0 0 1 0 1 0 0 0 0 1 0 0 1 0 1 0 1 0\n",
      " 1 0 1 1 0 1 0 0 0 1 0 0 0 0 0 0 1 1 1 1 0 0 0 0 1 0 1 1 1 0 0 0 0 0 0 0 1\n",
      " 0 0 0 1 1 0 0 0 0 1 0 0 0 1 1 0 1 0 0 0 0 1 0 1 1 1 0 0 0 0 0 0 1 0 0 0 0\n",
      " 1 0 0 0 0 0 0 0 1 1 0 0 0 1 0 0 0 1 1 1 0 0 0 0 0 0 0 0 1 0 1 0 0 0 1 0 0\n",
      " 1 0 0 0 0 0 0 0 0 0 1 0 1 0 1 0 1 1 0 0 0 1 0 1 0 0 1 0 1 1 0 1 0 0 1 1 0\n",
      " 0 1 0 0 1 1 1 0 0 0 0 0 1 1 0 1 0 0 0 0 0 1 0 0 0 1 0 1 0 0 1 0 1 0 0 0 0\n",
      " 0 1 1 1 1 1 0 1 0 0 0]\n",
      "📁 Final Output:\n",
      "   PassengerId  Survived\n",
      "0          892         0\n",
      "1          893         1\n",
      "2          894         0\n",
      "3          895         0\n",
      "4          896         1\n"
     ]
    }
   ],
   "source": [
    "classifier = svm.SVC(kernel='linear')\n",
    "classifier.fit(X_train, Y_train)\n",
    "X_train_prediction = classifier.predict(X_train)\n",
    "X_val_prediction = classifier.predict(X_val)\n",
    "print('🔥 Training Accuracy:', accuracy_score(Y_train, X_train_prediction))\n",
    "print('🧪 Validation Accuracy:', accuracy_score(Y_val, X_val_prediction))\n",
    "\n",
    "svm_test = classifier.predict(X_TEST)\n",
    "print(\"🧊 Test Predictions:\", svm_test)\n",
    "output = pd.DataFrame({\n",
    "    'PassengerId': titanic_test_dataset['PassengerId'],\n",
    "    'Survived': svm_test\n",
    "})\n",
    "output.to_csv('titanic_svm_test_predictions.csv', index=False)\n",
    "print(\"📁 Final Output:\")\n",
    "print(output.head())"
   ]
  },
  {
   "cell_type": "code",
   "execution_count": 8,
   "id": "5e72ef0f",
   "metadata": {
    "execution": {
     "iopub.execute_input": "2025-05-24T20:26:00.977803Z",
     "iopub.status.busy": "2025-05-24T20:26:00.977474Z",
     "iopub.status.idle": "2025-05-24T20:26:01.175661Z",
     "shell.execute_reply": "2025-05-24T20:26:01.174408Z"
    },
    "papermill": {
     "duration": 0.204149,
     "end_time": "2025-05-24T20:26:01.177402",
     "exception": false,
     "start_time": "2025-05-24T20:26:00.973253",
     "status": "completed"
    },
    "tags": []
   },
   "outputs": [
    {
     "name": "stdout",
     "output_type": "stream",
     "text": [
      "🔥 Training Accuracy: 0.8721910112359551\n",
      "🧪 Validation Accuracy: 0.7877094972067039\n",
      "🧊 Test Predictions: [0 0 0 0 0 0 1 0 1 0 0 0 1 0 1 1 0 0 0 1 0 0 1 0 1 0 1 0 0 0 0 0 1 0 1 0 0\n",
      " 0 0 0 0 1 0 1 1 0 0 0 1 1 1 0 1 1 0 0 0 0 0 1 0 0 0 1 1 1 1 0 1 1 1 0 0 1\n",
      " 1 0 0 1 0 1 0 0 0 0 0 0 1 0 1 1 0 0 1 0 0 0 1 0 1 0 1 0 0 0 0 0 0 0 0 0 0\n",
      " 1 1 1 1 0 0 1 0 1 1 0 1 0 0 1 0 1 0 0 0 0 0 0 0 0 0 0 0 0 0 1 0 0 0 0 0 0\n",
      " 0 0 1 0 0 1 0 0 1 1 0 1 1 0 1 0 0 1 0 0 1 0 0 0 0 0 0 1 1 0 1 1 0 1 1 0 1\n",
      " 0 1 0 0 0 0 0 0 0 0 0 1 1 0 0 1 1 1 1 0 0 1 0 1 0 0 0 0 1 0 0 1 0 1 0 1 0\n",
      " 1 0 1 1 0 1 0 0 0 1 0 0 1 0 0 0 1 1 1 1 1 0 0 0 1 0 1 0 1 0 1 0 0 0 0 0 1\n",
      " 0 0 0 1 1 0 0 0 0 0 0 0 0 1 1 0 1 0 0 0 0 0 1 1 1 1 0 0 1 0 0 0 1 0 0 0 0\n",
      " 1 0 0 0 0 0 0 0 1 1 1 1 0 0 0 0 0 1 1 1 0 0 0 0 0 0 0 0 1 0 1 0 0 0 1 0 0\n",
      " 1 0 0 0 0 0 0 0 0 0 1 1 1 0 1 0 1 1 0 0 0 1 0 1 0 0 0 0 1 1 0 1 0 0 1 1 0\n",
      " 0 1 0 0 1 1 0 0 0 0 0 0 1 0 0 1 0 0 0 0 0 1 0 0 0 1 0 1 0 0 1 0 1 0 1 0 0\n",
      " 0 1 1 1 1 0 0 1 0 0 1]\n",
      "📁 Final Output:\n",
      "   PassengerId  Survived\n",
      "0          892         0\n",
      "1          893         0\n",
      "2          894         0\n",
      "3          895         0\n",
      "4          896         0\n"
     ]
    }
   ],
   "source": [
    "rf_model = RandomForestClassifier(\n",
    "    n_estimators=100,  \n",
    "    max_depth=5,       \n",
    "    random_state=2\n",
    ")\n",
    "rf_model.fit(X_train, Y_train)\n",
    "\n",
    "X_train_prediction = rf_model.predict(X_train)\n",
    "X_val_prediction = rf_model.predict(X_val)\n",
    "print('🔥 Training Accuracy:', accuracy_score(Y_train, X_train_prediction))\n",
    "print('🧪 Validation Accuracy:', accuracy_score(Y_val, X_val_prediction))\n",
    "\n",
    "rf_test = rf_model.predict(X_TEST)\n",
    "print(\"🧊 Test Predictions:\", rf_test)\n",
    "output = pd.DataFrame({\n",
    "    'PassengerId': titanic_test_dataset['PassengerId'],\n",
    "    'Survived': rf_test\n",
    "})\n",
    "output.to_csv('titanic_rf_test_predictions.csv', index=False)\n",
    "print(\"📁 Final Output:\")\n",
    "print(output.head())"
   ]
  },
  {
   "cell_type": "code",
   "execution_count": 9,
   "id": "110b5b8a",
   "metadata": {
    "execution": {
     "iopub.execute_input": "2025-05-24T20:26:01.185063Z",
     "iopub.status.busy": "2025-05-24T20:26:01.184779Z",
     "iopub.status.idle": "2025-05-24T20:26:36.410268Z",
     "shell.execute_reply": "2025-05-24T20:26:36.409045Z"
    },
    "papermill": {
     "duration": 35.231225,
     "end_time": "2025-05-24T20:26:36.412029",
     "exception": false,
     "start_time": "2025-05-24T20:26:01.180804",
     "status": "completed"
    },
    "tags": []
   },
   "outputs": [
    {
     "name": "stdout",
     "output_type": "stream",
     "text": [
      "Epoch 1/100\n"
     ]
    },
    {
     "name": "stderr",
     "output_type": "stream",
     "text": [
      "2025-05-24 20:26:01.201568: E external/local_xla/xla/stream_executor/cuda/cuda_driver.cc:152] failed call to cuInit: INTERNAL: CUDA error: Failed call to cuInit: UNKNOWN ERROR (303)\n"
     ]
    },
    {
     "name": "stdout",
     "output_type": "stream",
     "text": [
      "\u001b[1m89/89\u001b[0m \u001b[32m━━━━━━━━━━━━━━━━━━━━\u001b[0m\u001b[37m\u001b[0m \u001b[1m3s\u001b[0m 7ms/step - accuracy: 0.5032 - loss: 0.7147 - val_accuracy: 0.7039 - val_loss: 0.5512\n",
      "Epoch 2/100\n",
      "\u001b[1m89/89\u001b[0m \u001b[32m━━━━━━━━━━━━━━━━━━━━\u001b[0m\u001b[37m\u001b[0m \u001b[1m0s\u001b[0m 3ms/step - accuracy: 0.7578 - loss: 0.5126 - val_accuracy: 0.7765 - val_loss: 0.4808\n",
      "Epoch 3/100\n",
      "\u001b[1m89/89\u001b[0m \u001b[32m━━━━━━━━━━━━━━━━━━━━\u001b[0m\u001b[37m\u001b[0m \u001b[1m0s\u001b[0m 3ms/step - accuracy: 0.7816 - loss: 0.4810 - val_accuracy: 0.7989 - val_loss: 0.4541\n",
      "Epoch 4/100\n",
      "\u001b[1m89/89\u001b[0m \u001b[32m━━━━━━━━━━━━━━━━━━━━\u001b[0m\u001b[37m\u001b[0m \u001b[1m0s\u001b[0m 3ms/step - accuracy: 0.7674 - loss: 0.4826 - val_accuracy: 0.7989 - val_loss: 0.4472\n",
      "Epoch 5/100\n",
      "\u001b[1m89/89\u001b[0m \u001b[32m━━━━━━━━━━━━━━━━━━━━\u001b[0m\u001b[37m\u001b[0m \u001b[1m0s\u001b[0m 3ms/step - accuracy: 0.8443 - loss: 0.4141 - val_accuracy: 0.7765 - val_loss: 0.4444\n",
      "Epoch 6/100\n",
      "\u001b[1m89/89\u001b[0m \u001b[32m━━━━━━━━━━━━━━━━━━━━\u001b[0m\u001b[37m\u001b[0m \u001b[1m0s\u001b[0m 3ms/step - accuracy: 0.8434 - loss: 0.3999 - val_accuracy: 0.7989 - val_loss: 0.4384\n",
      "Epoch 7/100\n",
      "\u001b[1m89/89\u001b[0m \u001b[32m━━━━━━━━━━━━━━━━━━━━\u001b[0m\u001b[37m\u001b[0m \u001b[1m0s\u001b[0m 3ms/step - accuracy: 0.7839 - loss: 0.4755 - val_accuracy: 0.7877 - val_loss: 0.4343\n",
      "Epoch 8/100\n",
      "\u001b[1m89/89\u001b[0m \u001b[32m━━━━━━━━━━━━━━━━━━━━\u001b[0m\u001b[37m\u001b[0m \u001b[1m0s\u001b[0m 3ms/step - accuracy: 0.8168 - loss: 0.4172 - val_accuracy: 0.7877 - val_loss: 0.4356\n",
      "Epoch 9/100\n",
      "\u001b[1m89/89\u001b[0m \u001b[32m━━━━━━━━━━━━━━━━━━━━\u001b[0m\u001b[37m\u001b[0m \u001b[1m0s\u001b[0m 3ms/step - accuracy: 0.8330 - loss: 0.4138 - val_accuracy: 0.7989 - val_loss: 0.4356\n",
      "Epoch 10/100\n",
      "\u001b[1m89/89\u001b[0m \u001b[32m━━━━━━━━━━━━━━━━━━━━\u001b[0m\u001b[37m\u001b[0m \u001b[1m0s\u001b[0m 3ms/step - accuracy: 0.8018 - loss: 0.4358 - val_accuracy: 0.8101 - val_loss: 0.4361\n",
      "Epoch 11/100\n",
      "\u001b[1m89/89\u001b[0m \u001b[32m━━━━━━━━━━━━━━━━━━━━\u001b[0m\u001b[37m\u001b[0m \u001b[1m0s\u001b[0m 3ms/step - accuracy: 0.8295 - loss: 0.3812 - val_accuracy: 0.8156 - val_loss: 0.4405\n",
      "Epoch 12/100\n",
      "\u001b[1m89/89\u001b[0m \u001b[32m━━━━━━━━━━━━━━━━━━━━\u001b[0m\u001b[37m\u001b[0m \u001b[1m0s\u001b[0m 3ms/step - accuracy: 0.8178 - loss: 0.4499 - val_accuracy: 0.8212 - val_loss: 0.4321\n",
      "Epoch 13/100\n",
      "\u001b[1m89/89\u001b[0m \u001b[32m━━━━━━━━━━━━━━━━━━━━\u001b[0m\u001b[37m\u001b[0m \u001b[1m0s\u001b[0m 3ms/step - accuracy: 0.8109 - loss: 0.4312 - val_accuracy: 0.8156 - val_loss: 0.4321\n",
      "Epoch 14/100\n",
      "\u001b[1m89/89\u001b[0m \u001b[32m━━━━━━━━━━━━━━━━━━━━\u001b[0m\u001b[37m\u001b[0m \u001b[1m0s\u001b[0m 3ms/step - accuracy: 0.8382 - loss: 0.3765 - val_accuracy: 0.8212 - val_loss: 0.4282\n",
      "Epoch 15/100\n",
      "\u001b[1m89/89\u001b[0m \u001b[32m━━━━━━━━━━━━━━━━━━━━\u001b[0m\u001b[37m\u001b[0m \u001b[1m0s\u001b[0m 3ms/step - accuracy: 0.8368 - loss: 0.3956 - val_accuracy: 0.8212 - val_loss: 0.4257\n",
      "Epoch 16/100\n",
      "\u001b[1m89/89\u001b[0m \u001b[32m━━━━━━━━━━━━━━━━━━━━\u001b[0m\u001b[37m\u001b[0m \u001b[1m0s\u001b[0m 3ms/step - accuracy: 0.8458 - loss: 0.3918 - val_accuracy: 0.8268 - val_loss: 0.4253\n",
      "Epoch 17/100\n",
      "\u001b[1m89/89\u001b[0m \u001b[32m━━━━━━━━━━━━━━━━━━━━\u001b[0m\u001b[37m\u001b[0m \u001b[1m0s\u001b[0m 3ms/step - accuracy: 0.8601 - loss: 0.3541 - val_accuracy: 0.8324 - val_loss: 0.4216\n",
      "Epoch 18/100\n",
      "\u001b[1m89/89\u001b[0m \u001b[32m━━━━━━━━━━━━━━━━━━━━\u001b[0m\u001b[37m\u001b[0m \u001b[1m0s\u001b[0m 3ms/step - accuracy: 0.8303 - loss: 0.3804 - val_accuracy: 0.8101 - val_loss: 0.4250\n",
      "Epoch 19/100\n",
      "\u001b[1m89/89\u001b[0m \u001b[32m━━━━━━━━━━━━━━━━━━━━\u001b[0m\u001b[37m\u001b[0m \u001b[1m0s\u001b[0m 4ms/step - accuracy: 0.8599 - loss: 0.3738 - val_accuracy: 0.8101 - val_loss: 0.4275\n",
      "Epoch 20/100\n",
      "\u001b[1m89/89\u001b[0m \u001b[32m━━━━━━━━━━━━━━━━━━━━\u001b[0m\u001b[37m\u001b[0m \u001b[1m0s\u001b[0m 3ms/step - accuracy: 0.8588 - loss: 0.3803 - val_accuracy: 0.7989 - val_loss: 0.4300\n",
      "Epoch 21/100\n",
      "\u001b[1m89/89\u001b[0m \u001b[32m━━━━━━━━━━━━━━━━━━━━\u001b[0m\u001b[37m\u001b[0m \u001b[1m0s\u001b[0m 3ms/step - accuracy: 0.8541 - loss: 0.3839 - val_accuracy: 0.8212 - val_loss: 0.4284\n",
      "Epoch 22/100\n",
      "\u001b[1m89/89\u001b[0m \u001b[32m━━━━━━━━━━━━━━━━━━━━\u001b[0m\u001b[37m\u001b[0m \u001b[1m0s\u001b[0m 3ms/step - accuracy: 0.8454 - loss: 0.3921 - val_accuracy: 0.8324 - val_loss: 0.4295\n",
      "Epoch 23/100\n",
      "\u001b[1m89/89\u001b[0m \u001b[32m━━━━━━━━━━━━━━━━━━━━\u001b[0m\u001b[37m\u001b[0m \u001b[1m0s\u001b[0m 3ms/step - accuracy: 0.8538 - loss: 0.3890 - val_accuracy: 0.8045 - val_loss: 0.4370\n",
      "Epoch 24/100\n",
      "\u001b[1m89/89\u001b[0m \u001b[32m━━━━━━━━━━━━━━━━━━━━\u001b[0m\u001b[37m\u001b[0m \u001b[1m0s\u001b[0m 3ms/step - accuracy: 0.8310 - loss: 0.3903 - val_accuracy: 0.8101 - val_loss: 0.4397\n",
      "Epoch 25/100\n",
      "\u001b[1m89/89\u001b[0m \u001b[32m━━━━━━━━━━━━━━━━━━━━\u001b[0m\u001b[37m\u001b[0m \u001b[1m0s\u001b[0m 3ms/step - accuracy: 0.8418 - loss: 0.4115 - val_accuracy: 0.8156 - val_loss: 0.4377\n",
      "Epoch 26/100\n",
      "\u001b[1m89/89\u001b[0m \u001b[32m━━━━━━━━━━━━━━━━━━━━\u001b[0m\u001b[37m\u001b[0m \u001b[1m0s\u001b[0m 3ms/step - accuracy: 0.8572 - loss: 0.3625 - val_accuracy: 0.8045 - val_loss: 0.4375\n",
      "Epoch 27/100\n",
      "\u001b[1m89/89\u001b[0m \u001b[32m━━━━━━━━━━━━━━━━━━━━\u001b[0m\u001b[37m\u001b[0m \u001b[1m0s\u001b[0m 3ms/step - accuracy: 0.8446 - loss: 0.3900 - val_accuracy: 0.8101 - val_loss: 0.4336\n",
      "Epoch 28/100\n",
      "\u001b[1m89/89\u001b[0m \u001b[32m━━━━━━━━━━━━━━━━━━━━\u001b[0m\u001b[37m\u001b[0m \u001b[1m0s\u001b[0m 3ms/step - accuracy: 0.8502 - loss: 0.4097 - val_accuracy: 0.8268 - val_loss: 0.4304\n",
      "Epoch 29/100\n",
      "\u001b[1m89/89\u001b[0m \u001b[32m━━━━━━━━━━━━━━━━━━━━\u001b[0m\u001b[37m\u001b[0m \u001b[1m0s\u001b[0m 3ms/step - accuracy: 0.8323 - loss: 0.3717 - val_accuracy: 0.8101 - val_loss: 0.4358\n",
      "Epoch 30/100\n",
      "\u001b[1m89/89\u001b[0m \u001b[32m━━━━━━━━━━━━━━━━━━━━\u001b[0m\u001b[37m\u001b[0m \u001b[1m0s\u001b[0m 3ms/step - accuracy: 0.8468 - loss: 0.3526 - val_accuracy: 0.8156 - val_loss: 0.4253\n",
      "Epoch 31/100\n",
      "\u001b[1m89/89\u001b[0m \u001b[32m━━━━━━━━━━━━━━━━━━━━\u001b[0m\u001b[37m\u001b[0m \u001b[1m0s\u001b[0m 3ms/step - accuracy: 0.8669 - loss: 0.3509 - val_accuracy: 0.7933 - val_loss: 0.4306\n",
      "Epoch 32/100\n",
      "\u001b[1m89/89\u001b[0m \u001b[32m━━━━━━━━━━━━━━━━━━━━\u001b[0m\u001b[37m\u001b[0m \u001b[1m1s\u001b[0m 3ms/step - accuracy: 0.8119 - loss: 0.3868 - val_accuracy: 0.8156 - val_loss: 0.4257\n",
      "Epoch 33/100\n",
      "\u001b[1m89/89\u001b[0m \u001b[32m━━━━━━━━━━━━━━━━━━━━\u001b[0m\u001b[37m\u001b[0m \u001b[1m0s\u001b[0m 3ms/step - accuracy: 0.8440 - loss: 0.3891 - val_accuracy: 0.8212 - val_loss: 0.4292\n",
      "Epoch 34/100\n",
      "\u001b[1m89/89\u001b[0m \u001b[32m━━━━━━━━━━━━━━━━━━━━\u001b[0m\u001b[37m\u001b[0m \u001b[1m0s\u001b[0m 3ms/step - accuracy: 0.8377 - loss: 0.3913 - val_accuracy: 0.8101 - val_loss: 0.4317\n",
      "Epoch 35/100\n",
      "\u001b[1m89/89\u001b[0m \u001b[32m━━━━━━━━━━━━━━━━━━━━\u001b[0m\u001b[37m\u001b[0m \u001b[1m0s\u001b[0m 3ms/step - accuracy: 0.8444 - loss: 0.3549 - val_accuracy: 0.8324 - val_loss: 0.4309\n",
      "Epoch 36/100\n",
      "\u001b[1m89/89\u001b[0m \u001b[32m━━━━━━━━━━━━━━━━━━━━\u001b[0m\u001b[37m\u001b[0m \u001b[1m0s\u001b[0m 3ms/step - accuracy: 0.8390 - loss: 0.3871 - val_accuracy: 0.8045 - val_loss: 0.4291\n",
      "Epoch 37/100\n",
      "\u001b[1m89/89\u001b[0m \u001b[32m━━━━━━━━━━━━━━━━━━━━\u001b[0m\u001b[37m\u001b[0m \u001b[1m0s\u001b[0m 3ms/step - accuracy: 0.8514 - loss: 0.3608 - val_accuracy: 0.8101 - val_loss: 0.4273\n",
      "Epoch 38/100\n",
      "\u001b[1m89/89\u001b[0m \u001b[32m━━━━━━━━━━━━━━━━━━━━\u001b[0m\u001b[37m\u001b[0m \u001b[1m0s\u001b[0m 3ms/step - accuracy: 0.8665 - loss: 0.3480 - val_accuracy: 0.8212 - val_loss: 0.4297\n",
      "Epoch 39/100\n",
      "\u001b[1m89/89\u001b[0m \u001b[32m━━━━━━━━━━━━━━━━━━━━\u001b[0m\u001b[37m\u001b[0m \u001b[1m0s\u001b[0m 3ms/step - accuracy: 0.8496 - loss: 0.3557 - val_accuracy: 0.8156 - val_loss: 0.4305\n",
      "Epoch 40/100\n",
      "\u001b[1m89/89\u001b[0m \u001b[32m━━━━━━━━━━━━━━━━━━━━\u001b[0m\u001b[37m\u001b[0m \u001b[1m0s\u001b[0m 3ms/step - accuracy: 0.8836 - loss: 0.3421 - val_accuracy: 0.7933 - val_loss: 0.4381\n",
      "Epoch 41/100\n",
      "\u001b[1m89/89\u001b[0m \u001b[32m━━━━━━━━━━━━━━━━━━━━\u001b[0m\u001b[37m\u001b[0m \u001b[1m0s\u001b[0m 3ms/step - accuracy: 0.8194 - loss: 0.3854 - val_accuracy: 0.7989 - val_loss: 0.4336\n",
      "Epoch 42/100\n",
      "\u001b[1m89/89\u001b[0m \u001b[32m━━━━━━━━━━━━━━━━━━━━\u001b[0m\u001b[37m\u001b[0m \u001b[1m0s\u001b[0m 3ms/step - accuracy: 0.8569 - loss: 0.3398 - val_accuracy: 0.8045 - val_loss: 0.4315\n",
      "Epoch 43/100\n",
      "\u001b[1m89/89\u001b[0m \u001b[32m━━━━━━━━━━━━━━━━━━━━\u001b[0m\u001b[37m\u001b[0m \u001b[1m0s\u001b[0m 3ms/step - accuracy: 0.8654 - loss: 0.3600 - val_accuracy: 0.7989 - val_loss: 0.4296\n",
      "Epoch 44/100\n",
      "\u001b[1m89/89\u001b[0m \u001b[32m━━━━━━━━━━━━━━━━━━━━\u001b[0m\u001b[37m\u001b[0m \u001b[1m0s\u001b[0m 3ms/step - accuracy: 0.8260 - loss: 0.3887 - val_accuracy: 0.8212 - val_loss: 0.4289\n",
      "Epoch 45/100\n",
      "\u001b[1m89/89\u001b[0m \u001b[32m━━━━━━━━━━━━━━━━━━━━\u001b[0m\u001b[37m\u001b[0m \u001b[1m0s\u001b[0m 3ms/step - accuracy: 0.8683 - loss: 0.3329 - val_accuracy: 0.8212 - val_loss: 0.4311\n",
      "Epoch 46/100\n",
      "\u001b[1m89/89\u001b[0m \u001b[32m━━━━━━━━━━━━━━━━━━━━\u001b[0m\u001b[37m\u001b[0m \u001b[1m0s\u001b[0m 3ms/step - accuracy: 0.8621 - loss: 0.3507 - val_accuracy: 0.8045 - val_loss: 0.4336\n",
      "Epoch 47/100\n",
      "\u001b[1m89/89\u001b[0m \u001b[32m━━━━━━━━━━━━━━━━━━━━\u001b[0m\u001b[37m\u001b[0m \u001b[1m0s\u001b[0m 3ms/step - accuracy: 0.8366 - loss: 0.3807 - val_accuracy: 0.8156 - val_loss: 0.4351\n",
      "Epoch 48/100\n",
      "\u001b[1m89/89\u001b[0m \u001b[32m━━━━━━━━━━━━━━━━━━━━\u001b[0m\u001b[37m\u001b[0m \u001b[1m0s\u001b[0m 3ms/step - accuracy: 0.8650 - loss: 0.3539 - val_accuracy: 0.8101 - val_loss: 0.4346\n",
      "Epoch 49/100\n",
      "\u001b[1m89/89\u001b[0m \u001b[32m━━━━━━━━━━━━━━━━━━━━\u001b[0m\u001b[37m\u001b[0m \u001b[1m0s\u001b[0m 3ms/step - accuracy: 0.8797 - loss: 0.3271 - val_accuracy: 0.8268 - val_loss: 0.4337\n",
      "Epoch 50/100\n",
      "\u001b[1m89/89\u001b[0m \u001b[32m━━━━━━━━━━━━━━━━━━━━\u001b[0m\u001b[37m\u001b[0m \u001b[1m0s\u001b[0m 3ms/step - accuracy: 0.8503 - loss: 0.3656 - val_accuracy: 0.8212 - val_loss: 0.4297\n",
      "Epoch 51/100\n",
      "\u001b[1m89/89\u001b[0m \u001b[32m━━━━━━━━━━━━━━━━━━━━\u001b[0m\u001b[37m\u001b[0m \u001b[1m0s\u001b[0m 3ms/step - accuracy: 0.8470 - loss: 0.3651 - val_accuracy: 0.8212 - val_loss: 0.4307\n",
      "Epoch 52/100\n",
      "\u001b[1m89/89\u001b[0m \u001b[32m━━━━━━━━━━━━━━━━━━━━\u001b[0m\u001b[37m\u001b[0m \u001b[1m0s\u001b[0m 3ms/step - accuracy: 0.8356 - loss: 0.3623 - val_accuracy: 0.8212 - val_loss: 0.4319\n",
      "Epoch 53/100\n",
      "\u001b[1m89/89\u001b[0m \u001b[32m━━━━━━━━━━━━━━━━━━━━\u001b[0m\u001b[37m\u001b[0m \u001b[1m0s\u001b[0m 3ms/step - accuracy: 0.8283 - loss: 0.4087 - val_accuracy: 0.8212 - val_loss: 0.4351\n",
      "Epoch 54/100\n",
      "\u001b[1m89/89\u001b[0m \u001b[32m━━━━━━━━━━━━━━━━━━━━\u001b[0m\u001b[37m\u001b[0m \u001b[1m0s\u001b[0m 3ms/step - accuracy: 0.8684 - loss: 0.3423 - val_accuracy: 0.8045 - val_loss: 0.4417\n",
      "Epoch 55/100\n",
      "\u001b[1m89/89\u001b[0m \u001b[32m━━━━━━━━━━━━━━━━━━━━\u001b[0m\u001b[37m\u001b[0m \u001b[1m0s\u001b[0m 3ms/step - accuracy: 0.8495 - loss: 0.3739 - val_accuracy: 0.8268 - val_loss: 0.4348\n",
      "Epoch 56/100\n",
      "\u001b[1m89/89\u001b[0m \u001b[32m━━━━━━━━━━━━━━━━━━━━\u001b[0m\u001b[37m\u001b[0m \u001b[1m0s\u001b[0m 3ms/step - accuracy: 0.8510 - loss: 0.3559 - val_accuracy: 0.8101 - val_loss: 0.4387\n",
      "Epoch 57/100\n",
      "\u001b[1m89/89\u001b[0m \u001b[32m━━━━━━━━━━━━━━━━━━━━\u001b[0m\u001b[37m\u001b[0m \u001b[1m0s\u001b[0m 3ms/step - accuracy: 0.8678 - loss: 0.3502 - val_accuracy: 0.8156 - val_loss: 0.4376\n",
      "Epoch 58/100\n",
      "\u001b[1m89/89\u001b[0m \u001b[32m━━━━━━━━━━━━━━━━━━━━\u001b[0m\u001b[37m\u001b[0m \u001b[1m0s\u001b[0m 3ms/step - accuracy: 0.8131 - loss: 0.4237 - val_accuracy: 0.8324 - val_loss: 0.4359\n",
      "Epoch 59/100\n",
      "\u001b[1m89/89\u001b[0m \u001b[32m━━━━━━━━━━━━━━━━━━━━\u001b[0m\u001b[37m\u001b[0m \u001b[1m0s\u001b[0m 3ms/step - accuracy: 0.8303 - loss: 0.3654 - val_accuracy: 0.8268 - val_loss: 0.4385\n",
      "Epoch 60/100\n",
      "\u001b[1m89/89\u001b[0m \u001b[32m━━━━━━━━━━━━━━━━━━━━\u001b[0m\u001b[37m\u001b[0m \u001b[1m0s\u001b[0m 3ms/step - accuracy: 0.8342 - loss: 0.3715 - val_accuracy: 0.8212 - val_loss: 0.4375\n",
      "Epoch 61/100\n",
      "\u001b[1m89/89\u001b[0m \u001b[32m━━━━━━━━━━━━━━━━━━━━\u001b[0m\u001b[37m\u001b[0m \u001b[1m0s\u001b[0m 3ms/step - accuracy: 0.8473 - loss: 0.3758 - val_accuracy: 0.8156 - val_loss: 0.4379\n",
      "Epoch 62/100\n",
      "\u001b[1m89/89\u001b[0m \u001b[32m━━━━━━━━━━━━━━━━━━━━\u001b[0m\u001b[37m\u001b[0m \u001b[1m0s\u001b[0m 3ms/step - accuracy: 0.8680 - loss: 0.3615 - val_accuracy: 0.8045 - val_loss: 0.4373\n",
      "Epoch 63/100\n",
      "\u001b[1m89/89\u001b[0m \u001b[32m━━━━━━━━━━━━━━━━━━━━\u001b[0m\u001b[37m\u001b[0m \u001b[1m0s\u001b[0m 3ms/step - accuracy: 0.8551 - loss: 0.3647 - val_accuracy: 0.8101 - val_loss: 0.4346\n",
      "Epoch 64/100\n",
      "\u001b[1m89/89\u001b[0m \u001b[32m━━━━━━━━━━━━━━━━━━━━\u001b[0m\u001b[37m\u001b[0m \u001b[1m0s\u001b[0m 3ms/step - accuracy: 0.8701 - loss: 0.3363 - val_accuracy: 0.8045 - val_loss: 0.4365\n",
      "Epoch 65/100\n",
      "\u001b[1m89/89\u001b[0m \u001b[32m━━━━━━━━━━━━━━━━━━━━\u001b[0m\u001b[37m\u001b[0m \u001b[1m0s\u001b[0m 3ms/step - accuracy: 0.8627 - loss: 0.3585 - val_accuracy: 0.8101 - val_loss: 0.4385\n",
      "Epoch 66/100\n",
      "\u001b[1m89/89\u001b[0m \u001b[32m━━━━━━━━━━━━━━━━━━━━\u001b[0m\u001b[37m\u001b[0m \u001b[1m0s\u001b[0m 3ms/step - accuracy: 0.8488 - loss: 0.3712 - val_accuracy: 0.8212 - val_loss: 0.4360\n",
      "Epoch 67/100\n",
      "\u001b[1m89/89\u001b[0m \u001b[32m━━━━━━━━━━━━━━━━━━━━\u001b[0m\u001b[37m\u001b[0m \u001b[1m0s\u001b[0m 3ms/step - accuracy: 0.8662 - loss: 0.3542 - val_accuracy: 0.8156 - val_loss: 0.4368\n",
      "Epoch 68/100\n",
      "\u001b[1m89/89\u001b[0m \u001b[32m━━━━━━━━━━━━━━━━━━━━\u001b[0m\u001b[37m\u001b[0m \u001b[1m0s\u001b[0m 3ms/step - accuracy: 0.8804 - loss: 0.3244 - val_accuracy: 0.8156 - val_loss: 0.4298\n",
      "Epoch 69/100\n",
      "\u001b[1m89/89\u001b[0m \u001b[32m━━━━━━━━━━━━━━━━━━━━\u001b[0m\u001b[37m\u001b[0m \u001b[1m0s\u001b[0m 3ms/step - accuracy: 0.8482 - loss: 0.3410 - val_accuracy: 0.8156 - val_loss: 0.4342\n",
      "Epoch 70/100\n",
      "\u001b[1m89/89\u001b[0m \u001b[32m━━━━━━━━━━━━━━━━━━━━\u001b[0m\u001b[37m\u001b[0m \u001b[1m0s\u001b[0m 3ms/step - accuracy: 0.8382 - loss: 0.3674 - val_accuracy: 0.7989 - val_loss: 0.4442\n",
      "Epoch 71/100\n",
      "\u001b[1m89/89\u001b[0m \u001b[32m━━━━━━━━━━━━━━━━━━━━\u001b[0m\u001b[37m\u001b[0m \u001b[1m0s\u001b[0m 3ms/step - accuracy: 0.8474 - loss: 0.4014 - val_accuracy: 0.8045 - val_loss: 0.4461\n",
      "Epoch 72/100\n",
      "\u001b[1m89/89\u001b[0m \u001b[32m━━━━━━━━━━━━━━━━━━━━\u001b[0m\u001b[37m\u001b[0m \u001b[1m0s\u001b[0m 4ms/step - accuracy: 0.8660 - loss: 0.3312 - val_accuracy: 0.8156 - val_loss: 0.4394\n",
      "Epoch 73/100\n",
      "\u001b[1m89/89\u001b[0m \u001b[32m━━━━━━━━━━━━━━━━━━━━\u001b[0m\u001b[37m\u001b[0m \u001b[1m0s\u001b[0m 4ms/step - accuracy: 0.8376 - loss: 0.3875 - val_accuracy: 0.8101 - val_loss: 0.4422\n",
      "Epoch 74/100\n",
      "\u001b[1m89/89\u001b[0m \u001b[32m━━━━━━━━━━━━━━━━━━━━\u001b[0m\u001b[37m\u001b[0m \u001b[1m0s\u001b[0m 3ms/step - accuracy: 0.8200 - loss: 0.3947 - val_accuracy: 0.7933 - val_loss: 0.4505\n",
      "Epoch 75/100\n",
      "\u001b[1m89/89\u001b[0m \u001b[32m━━━━━━━━━━━━━━━━━━━━\u001b[0m\u001b[37m\u001b[0m \u001b[1m0s\u001b[0m 4ms/step - accuracy: 0.8652 - loss: 0.3352 - val_accuracy: 0.8045 - val_loss: 0.4486\n",
      "Epoch 76/100\n",
      "\u001b[1m89/89\u001b[0m \u001b[32m━━━━━━━━━━━━━━━━━━━━\u001b[0m\u001b[37m\u001b[0m \u001b[1m0s\u001b[0m 4ms/step - accuracy: 0.8598 - loss: 0.3629 - val_accuracy: 0.8101 - val_loss: 0.4441\n",
      "Epoch 77/100\n",
      "\u001b[1m89/89\u001b[0m \u001b[32m━━━━━━━━━━━━━━━━━━━━\u001b[0m\u001b[37m\u001b[0m \u001b[1m0s\u001b[0m 4ms/step - accuracy: 0.8460 - loss: 0.3586 - val_accuracy: 0.8045 - val_loss: 0.4450\n",
      "Epoch 78/100\n",
      "\u001b[1m89/89\u001b[0m \u001b[32m━━━━━━━━━━━━━━━━━━━━\u001b[0m\u001b[37m\u001b[0m \u001b[1m0s\u001b[0m 3ms/step - accuracy: 0.8604 - loss: 0.3343 - val_accuracy: 0.7989 - val_loss: 0.4496\n",
      "Epoch 79/100\n",
      "\u001b[1m89/89\u001b[0m \u001b[32m━━━━━━━━━━━━━━━━━━━━\u001b[0m\u001b[37m\u001b[0m \u001b[1m0s\u001b[0m 3ms/step - accuracy: 0.8614 - loss: 0.3344 - val_accuracy: 0.8101 - val_loss: 0.4422\n",
      "Epoch 80/100\n",
      "\u001b[1m89/89\u001b[0m \u001b[32m━━━━━━━━━━━━━━━━━━━━\u001b[0m\u001b[37m\u001b[0m \u001b[1m0s\u001b[0m 3ms/step - accuracy: 0.8522 - loss: 0.3485 - val_accuracy: 0.8156 - val_loss: 0.4444\n",
      "Epoch 81/100\n",
      "\u001b[1m89/89\u001b[0m \u001b[32m━━━━━━━━━━━━━━━━━━━━\u001b[0m\u001b[37m\u001b[0m \u001b[1m0s\u001b[0m 4ms/step - accuracy: 0.8575 - loss: 0.3485 - val_accuracy: 0.7989 - val_loss: 0.4490\n",
      "Epoch 82/100\n",
      "\u001b[1m89/89\u001b[0m \u001b[32m━━━━━━━━━━━━━━━━━━━━\u001b[0m\u001b[37m\u001b[0m \u001b[1m0s\u001b[0m 3ms/step - accuracy: 0.8527 - loss: 0.3521 - val_accuracy: 0.8156 - val_loss: 0.4463\n",
      "Epoch 83/100\n",
      "\u001b[1m89/89\u001b[0m \u001b[32m━━━━━━━━━━━━━━━━━━━━\u001b[0m\u001b[37m\u001b[0m \u001b[1m0s\u001b[0m 3ms/step - accuracy: 0.8579 - loss: 0.3411 - val_accuracy: 0.8101 - val_loss: 0.4464\n",
      "Epoch 84/100\n",
      "\u001b[1m89/89\u001b[0m \u001b[32m━━━━━━━━━━━━━━━━━━━━\u001b[0m\u001b[37m\u001b[0m \u001b[1m0s\u001b[0m 3ms/step - accuracy: 0.8621 - loss: 0.3610 - val_accuracy: 0.8156 - val_loss: 0.4478\n",
      "Epoch 85/100\n",
      "\u001b[1m89/89\u001b[0m \u001b[32m━━━━━━━━━━━━━━━━━━━━\u001b[0m\u001b[37m\u001b[0m \u001b[1m0s\u001b[0m 3ms/step - accuracy: 0.8536 - loss: 0.3548 - val_accuracy: 0.8045 - val_loss: 0.4474\n",
      "Epoch 86/100\n",
      "\u001b[1m89/89\u001b[0m \u001b[32m━━━━━━━━━━━━━━━━━━━━\u001b[0m\u001b[37m\u001b[0m \u001b[1m0s\u001b[0m 3ms/step - accuracy: 0.8448 - loss: 0.3503 - val_accuracy: 0.8101 - val_loss: 0.4429\n",
      "Epoch 87/100\n",
      "\u001b[1m89/89\u001b[0m \u001b[32m━━━━━━━━━━━━━━━━━━━━\u001b[0m\u001b[37m\u001b[0m \u001b[1m0s\u001b[0m 3ms/step - accuracy: 0.8574 - loss: 0.3488 - val_accuracy: 0.8101 - val_loss: 0.4414\n",
      "Epoch 88/100\n",
      "\u001b[1m89/89\u001b[0m \u001b[32m━━━━━━━━━━━━━━━━━━━━\u001b[0m\u001b[37m\u001b[0m \u001b[1m0s\u001b[0m 3ms/step - accuracy: 0.8661 - loss: 0.3364 - val_accuracy: 0.7989 - val_loss: 0.4468\n",
      "Epoch 89/100\n",
      "\u001b[1m89/89\u001b[0m \u001b[32m━━━━━━━━━━━━━━━━━━━━\u001b[0m\u001b[37m\u001b[0m \u001b[1m0s\u001b[0m 3ms/step - accuracy: 0.8383 - loss: 0.3881 - val_accuracy: 0.8101 - val_loss: 0.4409\n",
      "Epoch 90/100\n",
      "\u001b[1m89/89\u001b[0m \u001b[32m━━━━━━━━━━━━━━━━━━━━\u001b[0m\u001b[37m\u001b[0m \u001b[1m0s\u001b[0m 3ms/step - accuracy: 0.8632 - loss: 0.3477 - val_accuracy: 0.8101 - val_loss: 0.4396\n",
      "Epoch 91/100\n",
      "\u001b[1m89/89\u001b[0m \u001b[32m━━━━━━━━━━━━━━━━━━━━\u001b[0m\u001b[37m\u001b[0m \u001b[1m0s\u001b[0m 3ms/step - accuracy: 0.8757 - loss: 0.3467 - val_accuracy: 0.7989 - val_loss: 0.4405\n",
      "Epoch 92/100\n",
      "\u001b[1m89/89\u001b[0m \u001b[32m━━━━━━━━━━━━━━━━━━━━\u001b[0m\u001b[37m\u001b[0m \u001b[1m0s\u001b[0m 3ms/step - accuracy: 0.8565 - loss: 0.3646 - val_accuracy: 0.8045 - val_loss: 0.4464\n",
      "Epoch 93/100\n",
      "\u001b[1m89/89\u001b[0m \u001b[32m━━━━━━━━━━━━━━━━━━━━\u001b[0m\u001b[37m\u001b[0m \u001b[1m0s\u001b[0m 3ms/step - accuracy: 0.8526 - loss: 0.3450 - val_accuracy: 0.8045 - val_loss: 0.4417\n",
      "Epoch 94/100\n",
      "\u001b[1m89/89\u001b[0m \u001b[32m━━━━━━━━━━━━━━━━━━━━\u001b[0m\u001b[37m\u001b[0m \u001b[1m0s\u001b[0m 3ms/step - accuracy: 0.8568 - loss: 0.3296 - val_accuracy: 0.8101 - val_loss: 0.4392\n",
      "Epoch 95/100\n",
      "\u001b[1m89/89\u001b[0m \u001b[32m━━━━━━━━━━━━━━━━━━━━\u001b[0m\u001b[37m\u001b[0m \u001b[1m0s\u001b[0m 3ms/step - accuracy: 0.8525 - loss: 0.3224 - val_accuracy: 0.8101 - val_loss: 0.4396\n",
      "Epoch 96/100\n",
      "\u001b[1m89/89\u001b[0m \u001b[32m━━━━━━━━━━━━━━━━━━━━\u001b[0m\u001b[37m\u001b[0m \u001b[1m0s\u001b[0m 3ms/step - accuracy: 0.8783 - loss: 0.3161 - val_accuracy: 0.8101 - val_loss: 0.4468\n",
      "Epoch 97/100\n",
      "\u001b[1m89/89\u001b[0m \u001b[32m━━━━━━━━━━━━━━━━━━━━\u001b[0m\u001b[37m\u001b[0m \u001b[1m0s\u001b[0m 3ms/step - accuracy: 0.8487 - loss: 0.3468 - val_accuracy: 0.8156 - val_loss: 0.4460\n",
      "Epoch 98/100\n",
      "\u001b[1m89/89\u001b[0m \u001b[32m━━━━━━━━━━━━━━━━━━━━\u001b[0m\u001b[37m\u001b[0m \u001b[1m0s\u001b[0m 3ms/step - accuracy: 0.8525 - loss: 0.3427 - val_accuracy: 0.8101 - val_loss: 0.4461\n",
      "Epoch 99/100\n",
      "\u001b[1m89/89\u001b[0m \u001b[32m━━━━━━━━━━━━━━━━━━━━\u001b[0m\u001b[37m\u001b[0m \u001b[1m0s\u001b[0m 3ms/step - accuracy: 0.8230 - loss: 0.3966 - val_accuracy: 0.7989 - val_loss: 0.4529\n",
      "Epoch 100/100\n",
      "\u001b[1m89/89\u001b[0m \u001b[32m━━━━━━━━━━━━━━━━━━━━\u001b[0m\u001b[37m\u001b[0m \u001b[1m0s\u001b[0m 3ms/step - accuracy: 0.8765 - loss: 0.3271 - val_accuracy: 0.8268 - val_loss: 0.4376\n",
      "🔥 Training Accuracy: 0.8623595237731934\n",
      "🧪 Validation Accuracy: 0.826815664768219\n",
      "\u001b[1m14/14\u001b[0m \u001b[32m━━━━━━━━━━━━━━━━━━━━\u001b[0m\u001b[37m\u001b[0m \u001b[1m0s\u001b[0m 7ms/step\n",
      "🧊 Test Predictions: [0 0 0 0 0 0 1 0 1 0 0 0 1 0 1 1 0 0 0 0 0 1 1 0 1 0 1 0 0 0 0 0 0 0 1 0 0\n",
      " 0 0 1 0 0 0 1 1 0 0 0 1 0 0 0 1 1 0 0 0 0 0 1 0 0 0 1 0 1 1 0 0 1 1 0 0 1\n",
      " 1 0 0 1 0 1 1 1 0 0 0 0 1 0 1 1 0 0 1 0 0 0 1 0 0 0 1 0 0 0 0 0 0 0 0 0 0\n",
      " 1 1 1 1 0 0 1 0 1 1 0 1 0 0 0 0 1 0 0 0 0 0 0 0 0 0 0 0 0 0 1 0 0 0 0 0 0\n",
      " 0 0 1 0 0 0 0 0 1 0 0 1 1 1 1 0 0 0 0 0 1 0 0 0 0 0 0 1 1 0 1 1 0 1 1 0 1\n",
      " 0 1 0 0 0 0 0 0 0 1 0 1 0 0 0 1 1 1 1 0 0 0 0 1 0 0 0 0 1 0 0 1 0 1 0 1 0\n",
      " 1 0 1 0 0 1 0 0 0 1 0 0 1 0 0 0 1 1 1 1 0 0 1 0 1 0 1 0 1 0 1 0 0 0 0 0 1\n",
      " 0 0 0 1 1 0 0 0 0 0 0 0 0 1 1 0 1 0 0 0 0 0 1 1 1 1 0 0 0 0 0 0 1 0 0 0 0\n",
      " 1 0 0 0 0 0 0 0 1 1 0 1 0 0 0 0 0 0 1 1 1 0 0 0 0 0 0 0 1 0 1 0 0 0 1 0 0\n",
      " 0 0 0 0 0 0 1 0 0 0 1 1 0 0 0 0 1 1 0 0 0 1 0 1 0 0 0 0 1 1 0 1 0 0 0 1 0\n",
      " 0 1 0 0 1 1 0 0 0 0 0 0 0 0 0 1 0 0 0 0 0 1 0 0 0 1 0 1 0 0 1 0 1 0 1 0 0\n",
      " 0 1 1 1 1 0 0 1 0 0 1]\n",
      "📁 Final Output:\n",
      "   PassengerId  Survived\n",
      "0          892         0\n",
      "1          893         0\n",
      "2          894         0\n",
      "3          895         0\n",
      "4          896         0\n"
     ]
    }
   ],
   "source": [
    "from tensorflow.keras.callbacks import EarlyStopping\n",
    "input_dim = X_train.shape[1]\n",
    "num_classes = len(Y_train.unique())  # 2 in your case\n",
    "# early_stop = EarlyStopping(patience=10, restore_best_weights=True)\n",
    "nn_model = Sequential([\n",
    "    Input(shape=(input_dim,)),\n",
    "    Dense(64, activation='relu'),\n",
    "    Dropout(0.3),\n",
    "    Dense(32, activation='relu'),\n",
    "    Dropout(0.3),\n",
    "    Dense(16, activation='relu'),\n",
    "    Dense(num_classes, activation='softmax')\n",
    "])\n",
    "\n",
    "nn_model.compile(\n",
    "    optimizer='adam',\n",
    "    loss='sparse_categorical_crossentropy',\n",
    "    metrics=['accuracy']\n",
    ")\n",
    "\n",
    "history = nn_model.fit(X_train, Y_train, epochs=100, batch_size=8, validation_data=(X_val, Y_val))\n",
    "\n",
    "\n",
    "\n",
    "# 6. Evaluate accuracy\n",
    "train_acc = history.history['accuracy'][-1]\n",
    "val_acc = history.history['val_accuracy'][-1]\n",
    "\n",
    "print(f\"🔥 Training Accuracy: {train_acc}\")\n",
    "print(f\"🧪 Validation Accuracy: {val_acc}\")\n",
    "\n",
    "nn_test_proba = nn_model.predict(X_TEST)\n",
    "nn_test = np.argmax(nn_test_proba, axis=1)\n",
    "print(\"🧊 Test Predictions:\", nn_test)\n",
    "output = pd.DataFrame({\n",
    "    'PassengerId': titanic_test_dataset['PassengerId'],\n",
    "    'Survived': nn_test\n",
    "})\n",
    "output.to_csv('titanic_nn_test_predictions.csv', index=False)\n",
    "print(\"📁 Final Output:\")\n",
    "print(output.head())"
   ]
  },
  {
   "cell_type": "code",
   "execution_count": 10,
   "id": "f68efe9c",
   "metadata": {
    "execution": {
     "iopub.execute_input": "2025-05-24T20:26:36.481681Z",
     "iopub.status.busy": "2025-05-24T20:26:36.481246Z",
     "iopub.status.idle": "2025-05-24T20:26:36.569035Z",
     "shell.execute_reply": "2025-05-24T20:26:36.568235Z"
    },
    "papermill": {
     "duration": 0.124025,
     "end_time": "2025-05-24T20:26:36.570783",
     "exception": false,
     "start_time": "2025-05-24T20:26:36.446758",
     "status": "completed"
    },
    "tags": []
   },
   "outputs": [
    {
     "name": "stdout",
     "output_type": "stream",
     "text": [
      "🔥 Training Accuracy: 0.8609550561797753\n",
      "🧪 Validation Accuracy: 0.8100558659217877\n",
      "🧊 Test Predictions: [0 0 0 0 0 0 1 0 1 0 0 0 1 0 1 1 0 0 0 0 0 0 1 0 1 0 1 0 0 0 0 0 0 0 0 0 0\n",
      " 0 0 0 0 1 0 1 1 0 0 0 1 0 0 0 1 1 0 0 0 0 0 1 0 0 0 1 1 1 1 0 0 1 1 0 0 0\n",
      " 1 0 0 1 0 1 0 0 0 0 0 0 1 0 1 1 0 0 1 0 0 0 1 0 1 0 1 0 0 0 1 0 0 0 0 0 0\n",
      " 1 1 1 1 0 0 1 0 1 1 0 1 0 0 0 0 1 0 0 0 0 0 0 0 0 0 0 0 0 0 1 0 0 0 0 0 0\n",
      " 0 0 1 0 0 0 0 0 1 1 1 0 1 0 1 0 0 0 0 0 1 0 0 0 0 0 0 1 1 0 1 1 0 0 1 0 1\n",
      " 0 1 0 0 0 0 0 0 0 0 0 1 1 0 0 1 1 0 1 0 0 1 0 1 0 0 0 0 1 0 0 1 0 1 0 1 0\n",
      " 1 0 1 0 0 1 0 0 0 1 0 0 0 0 0 0 1 1 1 1 0 0 0 0 1 0 1 0 1 0 0 0 0 0 0 0 1\n",
      " 0 0 0 1 1 0 0 0 0 0 0 0 0 1 1 0 1 0 0 0 0 0 1 1 1 1 0 0 0 0 0 0 1 0 0 0 0\n",
      " 1 0 0 0 0 0 0 0 1 1 0 1 0 0 0 0 0 1 1 1 0 0 0 0 0 0 0 0 1 0 1 0 0 0 1 0 0\n",
      " 1 0 0 0 0 0 0 0 0 0 1 0 1 0 1 0 1 1 0 0 0 1 0 1 0 0 0 0 1 1 0 1 0 0 0 1 0\n",
      " 0 1 0 0 1 1 0 0 0 0 0 0 0 0 0 1 0 0 0 0 0 1 0 0 0 1 0 1 0 0 1 0 1 0 0 0 0\n",
      " 0 1 1 1 1 0 0 1 0 0 1]\n",
      "📁 Final Output:\n",
      "   PassengerId  Survived\n",
      "0          892         0\n",
      "1          893         0\n",
      "2          894         0\n",
      "3          895         0\n",
      "4          896         0\n"
     ]
    }
   ],
   "source": [
    "xgb_model = XGBClassifier(\n",
    "    n_estimators=50,\n",
    "    max_depth=4,\n",
    "    learning_rate=0.05,\n",
    "    use_label_encoder=False,\n",
    "    eval_metric='logloss',\n",
    "    random_state=2\n",
    ")\n",
    "xgb_model.fit(X_train, Y_train)\n",
    "X_train_prediction = xgb_model.predict(X_train)\n",
    "X_val_prediction = xgb_model.predict(X_val)\n",
    "print('🔥 Training Accuracy:', accuracy_score(Y_train, X_train_prediction))\n",
    "print('🧪 Validation Accuracy:', accuracy_score(Y_val, X_val_prediction))\n",
    "\n",
    "xgb_test = xgb_model.predict(X_TEST)\n",
    "print(\"🧊 Test Predictions:\", xgb_test)\n",
    "output = pd.DataFrame({\n",
    "    'PassengerId': titanic_test_dataset['PassengerId'],\n",
    "    'Survived': xgb_test\n",
    "})\n",
    "output.to_csv('titanic_xgb_test_predictions.csv', index=False)\n",
    "print(\"📁 Final Output:\")\n",
    "print(output.head())"
   ]
  },
  {
   "cell_type": "code",
   "execution_count": null,
   "id": "9b3b1e1c",
   "metadata": {
    "papermill": {
     "duration": 0.033114,
     "end_time": "2025-05-24T20:26:36.640716",
     "exception": false,
     "start_time": "2025-05-24T20:26:36.607602",
     "status": "completed"
    },
    "tags": []
   },
   "outputs": [],
   "source": []
  }
 ],
 "metadata": {
  "kaggle": {
   "accelerator": "none",
   "dataSources": [
    {
     "datasetId": 7501315,
     "sourceId": 11931440,
     "sourceType": "datasetVersion"
    },
    {
     "datasetId": 7501320,
     "sourceId": 11931445,
     "sourceType": "datasetVersion"
    }
   ],
   "dockerImageVersionId": 31040,
   "isGpuEnabled": false,
   "isInternetEnabled": false,
   "language": "python",
   "sourceType": "notebook"
  },
  "kernelspec": {
   "display_name": "Python 3",
   "language": "python",
   "name": "python3"
  },
  "language_info": {
   "codemirror_mode": {
    "name": "ipython",
    "version": 3
   },
   "file_extension": ".py",
   "mimetype": "text/x-python",
   "name": "python",
   "nbconvert_exporter": "python",
   "pygments_lexer": "ipython3",
   "version": "3.11.11"
  },
  "papermill": {
   "default_parameters": {},
   "duration": 67.286623,
   "end_time": "2025-05-24T20:26:40.182693",
   "environment_variables": {},
   "exception": null,
   "input_path": "__notebook__.ipynb",
   "output_path": "__notebook__.ipynb",
   "parameters": {},
   "start_time": "2025-05-24T20:25:32.896070",
   "version": "2.6.0"
  }
 },
 "nbformat": 4,
 "nbformat_minor": 5
}
