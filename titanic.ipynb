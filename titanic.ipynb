{
 "cells": [
  {
   "cell_type": "code",
   "execution_count": 1,
   "id": "f9083b5c",
   "metadata": {
    "_cell_guid": "b1076dfc-b9ad-4769-8c92-a6c4dae69d19",
    "_uuid": "8f2839f25d086af736a60e9eeb907d3b93b6e0e5",
    "execution": {
     "iopub.execute_input": "2025-05-24T20:22:56.117337Z",
     "iopub.status.busy": "2025-05-24T20:22:56.116998Z",
     "iopub.status.idle": "2025-05-24T20:23:21.776176Z",
     "shell.execute_reply": "2025-05-24T20:23:21.774965Z"
    },
    "papermill": {
     "duration": 25.665473,
     "end_time": "2025-05-24T20:23:21.777786",
     "exception": false,
     "start_time": "2025-05-24T20:22:56.112313",
     "status": "completed"
    },
    "tags": []
   },
   "outputs": [
    {
     "name": "stderr",
     "output_type": "stream",
     "text": [
      "2025-05-24 20:23:03.808408: E external/local_xla/xla/stream_executor/cuda/cuda_fft.cc:477] Unable to register cuFFT factory: Attempting to register factory for plugin cuFFT when one has already been registered\n",
      "WARNING: All log messages before absl::InitializeLog() is called are written to STDERR\n",
      "E0000 00:00:1748118184.109719      13 cuda_dnn.cc:8310] Unable to register cuDNN factory: Attempting to register factory for plugin cuDNN when one has already been registered\n",
      "E0000 00:00:1748118184.207264      13 cuda_blas.cc:1418] Unable to register cuBLAS factory: Attempting to register factory for plugin cuBLAS when one has already been registered\n"
     ]
    },
    {
     "name": "stdout",
     "output_type": "stream",
     "text": [
      "/kaggle/input/titanic-train/titanic_train.csv\n",
      "/kaggle/input/titanic-test/titanic_test.csv\n"
     ]
    }
   ],
   "source": [
    "# This Python 3 environment comes with many helpful analytics libraries installed\n",
    "# It is defined by the kaggle/python Docker image: https://github.com/kaggle/docker-python\n",
    "# For example, here's several helpful packages to load\n",
    "\n",
    "import numpy as np # linear algebra\n",
    "import pandas as pd # data processing, CSV file I/O (e.g. pd.read_csv)\n",
    "from sklearn.preprocessing import StandardScaler\n",
    "from sklearn.model_selection import train_test_split\n",
    "from sklearn import svm\n",
    "from sklearn.metrics import accuracy_score\n",
    "from sklearn.ensemble import RandomForestClassifier\n",
    "import tensorflow as tf\n",
    "from tensorflow.keras.models import Sequential\n",
    "from tensorflow.keras.layers import Input, Dense, Dropout\n",
    "from xgboost import XGBClassifier\n",
    "from sklearn.model_selection import cross_val_score\n",
    "\n",
    "# Input data files are available in the read-only \"../input/\" directory\n",
    "# For example, running this (by clicking run or pressing Shift+Enter) will list all files under the input directory\n",
    "\n",
    "import os\n",
    "for dirname, _, filenames in os.walk('/kaggle/input'):\n",
    "    for filename in filenames:\n",
    "        print(os.path.join(dirname, filename))\n",
    "\n",
    "# You can write up to 20GB to the current directory (/kaggle/working/) that gets preserved as output when you create a version using \"Save & Run All\" \n",
    "# You can also write temporary files to /kaggle/temp/, but they won't be saved outside of the current session"
   ]
  },
  {
   "cell_type": "code",
   "execution_count": 2,
   "id": "5fca7875",
   "metadata": {
    "execution": {
     "iopub.execute_input": "2025-05-24T20:23:21.786151Z",
     "iopub.status.busy": "2025-05-24T20:23:21.785360Z",
     "iopub.status.idle": "2025-05-24T20:23:21.812266Z",
     "shell.execute_reply": "2025-05-24T20:23:21.811236Z"
    },
    "papermill": {
     "duration": 0.033059,
     "end_time": "2025-05-24T20:23:21.814402",
     "exception": false,
     "start_time": "2025-05-24T20:23:21.781343",
     "status": "completed"
    },
    "tags": []
   },
   "outputs": [],
   "source": [
    "titanic_train_dataset = pd.read_csv('/kaggle/input/titanic-train/titanic_train.csv')\n",
    "titanic_test_dataset = pd.read_csv('/kaggle/input/titanic-test/titanic_test.csv')"
   ]
  },
  {
   "cell_type": "code",
   "execution_count": 3,
   "id": "82f79715",
   "metadata": {
    "execution": {
     "iopub.execute_input": "2025-05-24T20:23:21.822233Z",
     "iopub.status.busy": "2025-05-24T20:23:21.821888Z",
     "iopub.status.idle": "2025-05-24T20:23:21.865706Z",
     "shell.execute_reply": "2025-05-24T20:23:21.864565Z"
    },
    "papermill": {
     "duration": 0.049973,
     "end_time": "2025-05-24T20:23:21.867628",
     "exception": false,
     "start_time": "2025-05-24T20:23:21.817655",
     "status": "completed"
    },
    "tags": []
   },
   "outputs": [],
   "source": [
    "titanic_train_dataset['Sex'] = titanic_train_dataset['Sex'].map({'male': 0, 'female': 1}).fillna(-1)\n",
    "titanic_train_dataset['Embarked'] = titanic_train_dataset['Embarked'].map({'S': 0, 'C': 1, 'Q': 2}).fillna(-1)\n",
    "titanic_train_dataset['Title'] = titanic_train_dataset['Name'].str.extract(' ([A-Za-z]+)\\.', expand=False)\n",
    "titanic_train_dataset['Age'] = titanic_train_dataset.groupby('Title')['Age'].transform(lambda x: x.fillna(x.median()))\n",
    "titanic_train_dataset['HasCabin'] = titanic_train_dataset['Cabin'].notna().astype(int)\n",
    "titanic_train_dataset['FamilySize'] = titanic_train_dataset['SibSp'] + titanic_train_dataset['Parch'] + 1\n",
    "titanic_train_dataset['IsAlone'] = (titanic_train_dataset['FamilySize'] == 1).astype(int)\n",
    "\n",
    "\n",
    "X = titanic_train_dataset.drop(columns = ['Survived', 'PassengerId', 'Ticket', 'Name', 'Cabin', 'Title'])\n",
    "Y = titanic_train_dataset['Survived']"
   ]
  },
  {
   "cell_type": "code",
   "execution_count": 4,
   "id": "e11d55eb",
   "metadata": {
    "execution": {
     "iopub.execute_input": "2025-05-24T20:23:21.875908Z",
     "iopub.status.busy": "2025-05-24T20:23:21.875575Z",
     "iopub.status.idle": "2025-05-24T20:23:21.917542Z",
     "shell.execute_reply": "2025-05-24T20:23:21.916190Z"
    },
    "papermill": {
     "duration": 0.048367,
     "end_time": "2025-05-24T20:23:21.919640",
     "exception": false,
     "start_time": "2025-05-24T20:23:21.871273",
     "status": "completed"
    },
    "tags": []
   },
   "outputs": [],
   "source": [
    "scaler = StandardScaler()\n",
    "scaler.fit(X)\n",
    "X = scaler.transform(X)"
   ]
  },
  {
   "cell_type": "code",
   "execution_count": 5,
   "id": "8d3bb70b",
   "metadata": {
    "execution": {
     "iopub.execute_input": "2025-05-24T20:23:21.927534Z",
     "iopub.status.busy": "2025-05-24T20:23:21.927220Z",
     "iopub.status.idle": "2025-05-24T20:23:21.959386Z",
     "shell.execute_reply": "2025-05-24T20:23:21.958210Z"
    },
    "papermill": {
     "duration": 0.038267,
     "end_time": "2025-05-24T20:23:21.961066",
     "exception": false,
     "start_time": "2025-05-24T20:23:21.922799",
     "status": "completed"
    },
    "tags": []
   },
   "outputs": [
    {
     "name": "stdout",
     "output_type": "stream",
     "text": [
      "❓ Nulls in X_TEST: PassengerId      0\n",
      "Pclass           0\n",
      "Name             0\n",
      "Sex              0\n",
      "Age              0\n",
      "SibSp            0\n",
      "Parch            0\n",
      "Ticket           0\n",
      "Fare             0\n",
      "Cabin          327\n",
      "Embarked         0\n",
      "Title            0\n",
      "HasCabin         0\n",
      "FamilySize       0\n",
      "IsAlone          0\n",
      "dtype: int64\n",
      "🔥 Any NaNs before scaling? 0\n"
     ]
    }
   ],
   "source": [
    "titanic_test_dataset['Sex'] = titanic_test_dataset['Sex'].map({'male': 0, 'female': 1}).fillna(-1)\n",
    "titanic_test_dataset['Embarked'] = titanic_test_dataset['Embarked'].map({'S': 0, 'C': 1, 'Q': 2}).fillna(-1)\n",
    "# Step 1: Combine train + test to calculate age medians\n",
    "combined = pd.concat([titanic_train_dataset, titanic_test_dataset], sort=False)\n",
    "title_age_median = combined.groupby('Title')['Age'].median()\n",
    "\n",
    "# Step 2: Map those medians to test data (after extracting Title)\n",
    "titanic_test_dataset['Title'] = titanic_test_dataset['Name'].str.extract(' ([A-Za-z]+)\\.', expand=False)\n",
    "titanic_test_dataset['Age'] = titanic_test_dataset.apply(\n",
    "    lambda row: title_age_median[row['Title']] if pd.isna(row['Age']) else row['Age'], axis=1\n",
    ")\n",
    "\n",
    "titanic_test_dataset['HasCabin'] = titanic_test_dataset['Cabin'].notna().astype(int)\n",
    "titanic_test_dataset['FamilySize'] = titanic_test_dataset['SibSp'] + titanic_test_dataset['Parch'] + 1\n",
    "titanic_test_dataset['IsAlone'] = (titanic_test_dataset['FamilySize'] == 1).astype(int)\n",
    "titanic_test_dataset['Fare'] = titanic_test_dataset['Fare'].fillna(titanic_test_dataset['Fare'].median())\n",
    "\n",
    "\n",
    "print(\"❓ Nulls in X_TEST:\", titanic_test_dataset.isnull().sum())\n",
    "\n",
    "X_TEST = titanic_test_dataset.drop(columns = ['PassengerId', 'Ticket', 'Name', 'Cabin', 'Title'])\n",
    "print(\"🔥 Any NaNs before scaling?\", pd.DataFrame(X_TEST).isna().sum().sum())\n",
    "X_TEST = scaler.transform(X_TEST)\n"
   ]
  },
  {
   "cell_type": "code",
   "execution_count": 6,
   "id": "9f9e6d82",
   "metadata": {
    "execution": {
     "iopub.execute_input": "2025-05-24T20:23:21.968820Z",
     "iopub.status.busy": "2025-05-24T20:23:21.968465Z",
     "iopub.status.idle": "2025-05-24T20:23:21.982983Z",
     "shell.execute_reply": "2025-05-24T20:23:21.982009Z"
    },
    "papermill": {
     "duration": 0.020471,
     "end_time": "2025-05-24T20:23:21.984789",
     "exception": false,
     "start_time": "2025-05-24T20:23:21.964318",
     "status": "completed"
    },
    "tags": []
   },
   "outputs": [],
   "source": [
    "X_train, X_val, Y_train, Y_val = train_test_split(X, Y, test_size=0.2, stratify=Y, random_state=42)\n"
   ]
  },
  {
   "cell_type": "code",
   "execution_count": 7,
   "id": "b50e940f",
   "metadata": {
    "execution": {
     "iopub.execute_input": "2025-05-24T20:23:21.992171Z",
     "iopub.status.busy": "2025-05-24T20:23:21.991827Z",
     "iopub.status.idle": "2025-05-24T20:23:22.050986Z",
     "shell.execute_reply": "2025-05-24T20:23:22.049720Z"
    },
    "papermill": {
     "duration": 0.064628,
     "end_time": "2025-05-24T20:23:22.052534",
     "exception": false,
     "start_time": "2025-05-24T20:23:21.987906",
     "status": "completed"
    },
    "tags": []
   },
   "outputs": [
    {
     "name": "stdout",
     "output_type": "stream",
     "text": [
      "🔥 Training Accuracy: 0.7907303370786517\n",
      "🧪 Validation Accuracy: 0.7877094972067039\n",
      "🧊 Test Predictions: [0 1 0 0 1 0 1 0 1 0 0 0 1 0 1 1 0 0 1 1 0 0 1 0 1 0 1 0 0 0 0 0 1 1 0 0 1\n",
      " 1 0 0 0 0 0 1 1 0 0 0 1 1 0 0 1 1 0 0 0 0 0 1 0 0 0 1 0 1 1 0 0 1 1 0 1 0\n",
      " 1 0 0 1 0 1 0 0 0 0 0 0 1 1 1 0 1 0 1 0 0 0 1 0 1 0 1 0 0 0 1 0 0 0 0 0 0\n",
      " 1 1 1 1 0 0 1 0 1 1 0 1 0 0 1 0 1 0 0 0 0 1 0 0 0 0 0 1 0 0 1 0 0 0 0 0 0\n",
      " 0 0 1 0 0 1 0 0 1 1 0 1 1 0 1 0 0 1 0 0 1 1 0 0 0 0 0 1 1 0 1 1 0 0 1 0 1\n",
      " 0 1 0 0 0 0 0 0 0 0 0 0 1 0 1 1 0 0 1 0 0 1 0 1 0 0 0 0 1 0 0 1 0 1 0 1 0\n",
      " 1 0 1 1 0 1 0 0 0 1 0 0 0 0 0 0 1 1 1 1 0 0 0 0 1 0 1 1 1 0 0 0 0 0 0 0 1\n",
      " 0 0 0 1 1 0 0 0 0 1 0 0 0 1 1 0 1 0 0 0 0 1 0 1 1 1 0 0 0 0 0 0 1 0 0 0 0\n",
      " 1 0 0 0 0 0 0 0 1 1 0 0 0 1 0 0 0 1 1 1 0 0 0 0 0 0 0 0 1 0 1 0 0 0 1 0 0\n",
      " 1 0 0 0 0 0 0 0 0 0 1 0 1 0 1 0 1 1 0 0 0 1 0 1 0 0 1 0 1 1 0 1 0 0 1 1 0\n",
      " 0 1 0 0 1 1 1 0 0 0 0 0 1 1 0 1 0 0 0 0 0 1 0 0 0 1 0 1 0 0 1 0 1 0 0 0 0\n",
      " 0 1 1 1 1 1 0 1 0 0 0]\n",
      "📁 Final Output:\n",
      "   PassengerId  Survived\n",
      "0          892         0\n",
      "1          893         1\n",
      "2          894         0\n",
      "3          895         0\n",
      "4          896         1\n"
     ]
    }
   ],
   "source": [
    "classifier = svm.SVC(kernel='linear')\n",
    "classifier.fit(X_train, Y_train)\n",
    "X_train_prediction = classifier.predict(X_train)\n",
    "X_val_prediction = classifier.predict(X_val)\n",
    "print('🔥 Training Accuracy:', accuracy_score(Y_train, X_train_prediction))\n",
    "print('🧪 Validation Accuracy:', accuracy_score(Y_val, X_val_prediction))\n",
    "\n",
    "svm_test = classifier.predict(X_TEST)\n",
    "print(\"🧊 Test Predictions:\", svm_test)\n",
    "output = pd.DataFrame({\n",
    "    'PassengerId': titanic_test_dataset['PassengerId'],\n",
    "    'Survived': svm_test\n",
    "})\n",
    "output.to_csv('titanic_svm_test_predictions.csv', index=False)\n",
    "print(\"📁 Final Output:\")\n",
    "print(output.head())"
   ]
  },
  {
   "cell_type": "code",
   "execution_count": 8,
   "id": "69cfdcd7",
   "metadata": {
    "execution": {
     "iopub.execute_input": "2025-05-24T20:23:22.060624Z",
     "iopub.status.busy": "2025-05-24T20:23:22.060280Z",
     "iopub.status.idle": "2025-05-24T20:23:22.273563Z",
     "shell.execute_reply": "2025-05-24T20:23:22.272393Z"
    },
    "papermill": {
     "duration": 0.219242,
     "end_time": "2025-05-24T20:23:22.275233",
     "exception": false,
     "start_time": "2025-05-24T20:23:22.055991",
     "status": "completed"
    },
    "tags": []
   },
   "outputs": [
    {
     "name": "stdout",
     "output_type": "stream",
     "text": [
      "🔥 Training Accuracy: 0.8721910112359551\n",
      "🧪 Validation Accuracy: 0.7877094972067039\n",
      "🧊 Test Predictions: [0 0 0 0 0 0 1 0 1 0 0 0 1 0 1 1 0 0 0 1 0 0 1 0 1 0 1 0 0 0 0 0 1 0 1 0 0\n",
      " 0 0 0 0 1 0 1 1 0 0 0 1 1 1 0 1 1 0 0 0 0 0 1 0 0 0 1 1 1 1 0 1 1 1 0 0 1\n",
      " 1 0 0 1 0 1 0 0 0 0 0 0 1 0 1 1 0 0 1 0 0 0 1 0 1 0 1 0 0 0 0 0 0 0 0 0 0\n",
      " 1 1 1 1 0 0 1 0 1 1 0 1 0 0 1 0 1 0 0 0 0 0 0 0 0 0 0 0 0 0 1 0 0 0 0 0 0\n",
      " 0 0 1 0 0 1 0 0 1 1 0 1 1 0 1 0 0 1 0 0 1 0 0 0 0 0 0 1 1 0 1 1 0 1 1 0 1\n",
      " 0 1 0 0 0 0 0 0 0 0 0 1 1 0 0 1 1 1 1 0 0 1 0 1 0 0 0 0 1 0 0 1 0 1 0 1 0\n",
      " 1 0 1 1 0 1 0 0 0 1 0 0 1 0 0 0 1 1 1 1 1 0 0 0 1 0 1 0 1 0 1 0 0 0 0 0 1\n",
      " 0 0 0 1 1 0 0 0 0 0 0 0 0 1 1 0 1 0 0 0 0 0 1 1 1 1 0 0 1 0 0 0 1 0 0 0 0\n",
      " 1 0 0 0 0 0 0 0 1 1 1 1 0 0 0 0 0 1 1 1 0 0 0 0 0 0 0 0 1 0 1 0 0 0 1 0 0\n",
      " 1 0 0 0 0 0 0 0 0 0 1 1 1 0 1 0 1 1 0 0 0 1 0 1 0 0 0 0 1 1 0 1 0 0 1 1 0\n",
      " 0 1 0 0 1 1 0 0 0 0 0 0 1 0 0 1 0 0 0 0 0 1 0 0 0 1 0 1 0 0 1 0 1 0 1 0 0\n",
      " 0 1 1 1 1 0 0 1 0 0 1]\n",
      "📁 Final Output:\n",
      "   PassengerId  Survived\n",
      "0          892         0\n",
      "1          893         0\n",
      "2          894         0\n",
      "3          895         0\n",
      "4          896         0\n"
     ]
    }
   ],
   "source": [
    "rf_model = RandomForestClassifier(\n",
    "    n_estimators=100,  \n",
    "    max_depth=5,       \n",
    "    random_state=2\n",
    ")\n",
    "rf_model.fit(X_train, Y_train)\n",
    "\n",
    "X_train_prediction = rf_model.predict(X_train)\n",
    "X_val_prediction = rf_model.predict(X_val)\n",
    "print('🔥 Training Accuracy:', accuracy_score(Y_train, X_train_prediction))\n",
    "print('🧪 Validation Accuracy:', accuracy_score(Y_val, X_val_prediction))\n",
    "\n",
    "rf_test = rf_model.predict(X_TEST)\n",
    "print(\"🧊 Test Predictions:\", rf_test)\n",
    "output = pd.DataFrame({\n",
    "    'PassengerId': titanic_test_dataset['PassengerId'],\n",
    "    'Survived': rf_test\n",
    "})\n",
    "output.to_csv('titanic_rf_test_predictions.csv', index=False)\n",
    "print(\"📁 Final Output:\")\n",
    "print(output.head())"
   ]
  },
  {
   "cell_type": "code",
   "execution_count": 9,
   "id": "aafdd1fe",
   "metadata": {
    "execution": {
     "iopub.execute_input": "2025-05-24T20:23:22.283722Z",
     "iopub.status.busy": "2025-05-24T20:23:22.282767Z",
     "iopub.status.idle": "2025-05-24T20:23:58.765021Z",
     "shell.execute_reply": "2025-05-24T20:23:58.763798Z"
    },
    "papermill": {
     "duration": 36.488068,
     "end_time": "2025-05-24T20:23:58.766704",
     "exception": false,
     "start_time": "2025-05-24T20:23:22.278636",
     "status": "completed"
    },
    "tags": []
   },
   "outputs": [
    {
     "name": "stdout",
     "output_type": "stream",
     "text": [
      "Epoch 1/100\n"
     ]
    },
    {
     "name": "stderr",
     "output_type": "stream",
     "text": [
      "2025-05-24 20:23:22.299368: E external/local_xla/xla/stream_executor/cuda/cuda_driver.cc:152] failed call to cuInit: INTERNAL: CUDA error: Failed call to cuInit: UNKNOWN ERROR (303)\n"
     ]
    },
    {
     "name": "stdout",
     "output_type": "stream",
     "text": [
      "\u001b[1m89/89\u001b[0m \u001b[32m━━━━━━━━━━━━━━━━━━━━\u001b[0m\u001b[37m\u001b[0m \u001b[1m3s\u001b[0m 7ms/step - accuracy: 0.6432 - loss: 0.6400 - val_accuracy: 0.7598 - val_loss: 0.5428\n",
      "Epoch 2/100\n",
      "\u001b[1m89/89\u001b[0m \u001b[32m━━━━━━━━━━━━━━━━━━━━\u001b[0m\u001b[37m\u001b[0m \u001b[1m0s\u001b[0m 3ms/step - accuracy: 0.7531 - loss: 0.5304 - val_accuracy: 0.7765 - val_loss: 0.4954\n",
      "Epoch 3/100\n",
      "\u001b[1m89/89\u001b[0m \u001b[32m━━━━━━━━━━━━━━━━━━━━\u001b[0m\u001b[37m\u001b[0m \u001b[1m0s\u001b[0m 3ms/step - accuracy: 0.7918 - loss: 0.4580 - val_accuracy: 0.7598 - val_loss: 0.4810\n",
      "Epoch 4/100\n",
      "\u001b[1m89/89\u001b[0m \u001b[32m━━━━━━━━━━━━━━━━━━━━\u001b[0m\u001b[37m\u001b[0m \u001b[1m0s\u001b[0m 3ms/step - accuracy: 0.8189 - loss: 0.4448 - val_accuracy: 0.7765 - val_loss: 0.4683\n",
      "Epoch 5/100\n",
      "\u001b[1m89/89\u001b[0m \u001b[32m━━━━━━━━━━━━━━━━━━━━\u001b[0m\u001b[37m\u001b[0m \u001b[1m0s\u001b[0m 3ms/step - accuracy: 0.7860 - loss: 0.4562 - val_accuracy: 0.7989 - val_loss: 0.4534\n",
      "Epoch 6/100\n",
      "\u001b[1m89/89\u001b[0m \u001b[32m━━━━━━━━━━━━━━━━━━━━\u001b[0m\u001b[37m\u001b[0m \u001b[1m0s\u001b[0m 3ms/step - accuracy: 0.8059 - loss: 0.4491 - val_accuracy: 0.7933 - val_loss: 0.4480\n",
      "Epoch 7/100\n",
      "\u001b[1m89/89\u001b[0m \u001b[32m━━━━━━━━━━━━━━━━━━━━\u001b[0m\u001b[37m\u001b[0m \u001b[1m0s\u001b[0m 3ms/step - accuracy: 0.8099 - loss: 0.4445 - val_accuracy: 0.7821 - val_loss: 0.4465\n",
      "Epoch 8/100\n",
      "\u001b[1m89/89\u001b[0m \u001b[32m━━━━━━━━━━━━━━━━━━━━\u001b[0m\u001b[37m\u001b[0m \u001b[1m0s\u001b[0m 3ms/step - accuracy: 0.8241 - loss: 0.4224 - val_accuracy: 0.7989 - val_loss: 0.4795\n",
      "Epoch 9/100\n",
      "\u001b[1m89/89\u001b[0m \u001b[32m━━━━━━━━━━━━━━━━━━━━\u001b[0m\u001b[37m\u001b[0m \u001b[1m0s\u001b[0m 4ms/step - accuracy: 0.8057 - loss: 0.4525 - val_accuracy: 0.7821 - val_loss: 0.4527\n",
      "Epoch 10/100\n",
      "\u001b[1m89/89\u001b[0m \u001b[32m━━━━━━━━━━━━━━━━━━━━\u001b[0m\u001b[37m\u001b[0m \u001b[1m0s\u001b[0m 3ms/step - accuracy: 0.8204 - loss: 0.4085 - val_accuracy: 0.7821 - val_loss: 0.4540\n",
      "Epoch 11/100\n",
      "\u001b[1m89/89\u001b[0m \u001b[32m━━━━━━━━━━━━━━━━━━━━\u001b[0m\u001b[37m\u001b[0m \u001b[1m0s\u001b[0m 3ms/step - accuracy: 0.8212 - loss: 0.4384 - val_accuracy: 0.8045 - val_loss: 0.4491\n",
      "Epoch 12/100\n",
      "\u001b[1m89/89\u001b[0m \u001b[32m━━━━━━━━━━━━━━━━━━━━\u001b[0m\u001b[37m\u001b[0m \u001b[1m0s\u001b[0m 3ms/step - accuracy: 0.8263 - loss: 0.4292 - val_accuracy: 0.8101 - val_loss: 0.4493\n",
      "Epoch 13/100\n",
      "\u001b[1m89/89\u001b[0m \u001b[32m━━━━━━━━━━━━━━━━━━━━\u001b[0m\u001b[37m\u001b[0m \u001b[1m0s\u001b[0m 3ms/step - accuracy: 0.8453 - loss: 0.3991 - val_accuracy: 0.7989 - val_loss: 0.4540\n",
      "Epoch 14/100\n",
      "\u001b[1m89/89\u001b[0m \u001b[32m━━━━━━━━━━━━━━━━━━━━\u001b[0m\u001b[37m\u001b[0m \u001b[1m0s\u001b[0m 3ms/step - accuracy: 0.8566 - loss: 0.3699 - val_accuracy: 0.7989 - val_loss: 0.4510\n",
      "Epoch 15/100\n",
      "\u001b[1m89/89\u001b[0m \u001b[32m━━━━━━━━━━━━━━━━━━━━\u001b[0m\u001b[37m\u001b[0m \u001b[1m0s\u001b[0m 3ms/step - accuracy: 0.8257 - loss: 0.4126 - val_accuracy: 0.8101 - val_loss: 0.4485\n",
      "Epoch 16/100\n",
      "\u001b[1m89/89\u001b[0m \u001b[32m━━━━━━━━━━━━━━━━━━━━\u001b[0m\u001b[37m\u001b[0m \u001b[1m0s\u001b[0m 3ms/step - accuracy: 0.8049 - loss: 0.4267 - val_accuracy: 0.8045 - val_loss: 0.4474\n",
      "Epoch 17/100\n",
      "\u001b[1m89/89\u001b[0m \u001b[32m━━━━━━━━━━━━━━━━━━━━\u001b[0m\u001b[37m\u001b[0m \u001b[1m0s\u001b[0m 4ms/step - accuracy: 0.8370 - loss: 0.4030 - val_accuracy: 0.7989 - val_loss: 0.4460\n",
      "Epoch 18/100\n",
      "\u001b[1m89/89\u001b[0m \u001b[32m━━━━━━━━━━━━━━━━━━━━\u001b[0m\u001b[37m\u001b[0m \u001b[1m0s\u001b[0m 4ms/step - accuracy: 0.8307 - loss: 0.4112 - val_accuracy: 0.8212 - val_loss: 0.4445\n",
      "Epoch 19/100\n",
      "\u001b[1m89/89\u001b[0m \u001b[32m━━━━━━━━━━━━━━━━━━━━\u001b[0m\u001b[37m\u001b[0m \u001b[1m0s\u001b[0m 3ms/step - accuracy: 0.8143 - loss: 0.4432 - val_accuracy: 0.7989 - val_loss: 0.4567\n",
      "Epoch 20/100\n",
      "\u001b[1m89/89\u001b[0m \u001b[32m━━━━━━━━━━━━━━━━━━━━\u001b[0m\u001b[37m\u001b[0m \u001b[1m0s\u001b[0m 3ms/step - accuracy: 0.8308 - loss: 0.3987 - val_accuracy: 0.8045 - val_loss: 0.4547\n",
      "Epoch 21/100\n",
      "\u001b[1m89/89\u001b[0m \u001b[32m━━━━━━━━━━━━━━━━━━━━\u001b[0m\u001b[37m\u001b[0m \u001b[1m0s\u001b[0m 3ms/step - accuracy: 0.8315 - loss: 0.4045 - val_accuracy: 0.8101 - val_loss: 0.4478\n",
      "Epoch 22/100\n",
      "\u001b[1m89/89\u001b[0m \u001b[32m━━━━━━━━━━━━━━━━━━━━\u001b[0m\u001b[37m\u001b[0m \u001b[1m0s\u001b[0m 3ms/step - accuracy: 0.8260 - loss: 0.4147 - val_accuracy: 0.8045 - val_loss: 0.4485\n",
      "Epoch 23/100\n",
      "\u001b[1m89/89\u001b[0m \u001b[32m━━━━━━━━━━━━━━━━━━━━\u001b[0m\u001b[37m\u001b[0m \u001b[1m0s\u001b[0m 3ms/step - accuracy: 0.8438 - loss: 0.4052 - val_accuracy: 0.8101 - val_loss: 0.4482\n",
      "Epoch 24/100\n",
      "\u001b[1m89/89\u001b[0m \u001b[32m━━━━━━━━━━━━━━━━━━━━\u001b[0m\u001b[37m\u001b[0m \u001b[1m0s\u001b[0m 3ms/step - accuracy: 0.8342 - loss: 0.4201 - val_accuracy: 0.8045 - val_loss: 0.4527\n",
      "Epoch 25/100\n",
      "\u001b[1m89/89\u001b[0m \u001b[32m━━━━━━━━━━━━━━━━━━━━\u001b[0m\u001b[37m\u001b[0m \u001b[1m0s\u001b[0m 3ms/step - accuracy: 0.8423 - loss: 0.3934 - val_accuracy: 0.8101 - val_loss: 0.4489\n",
      "Epoch 26/100\n",
      "\u001b[1m89/89\u001b[0m \u001b[32m━━━━━━━━━━━━━━━━━━━━\u001b[0m\u001b[37m\u001b[0m \u001b[1m0s\u001b[0m 3ms/step - accuracy: 0.8357 - loss: 0.3835 - val_accuracy: 0.8156 - val_loss: 0.4496\n",
      "Epoch 27/100\n",
      "\u001b[1m89/89\u001b[0m \u001b[32m━━━━━━━━━━━━━━━━━━━━\u001b[0m\u001b[37m\u001b[0m \u001b[1m0s\u001b[0m 3ms/step - accuracy: 0.8310 - loss: 0.3878 - val_accuracy: 0.8101 - val_loss: 0.4464\n",
      "Epoch 28/100\n",
      "\u001b[1m89/89\u001b[0m \u001b[32m━━━━━━━━━━━━━━━━━━━━\u001b[0m\u001b[37m\u001b[0m \u001b[1m0s\u001b[0m 3ms/step - accuracy: 0.8473 - loss: 0.3885 - val_accuracy: 0.7989 - val_loss: 0.4461\n",
      "Epoch 29/100\n",
      "\u001b[1m89/89\u001b[0m \u001b[32m━━━━━━━━━━━━━━━━━━━━\u001b[0m\u001b[37m\u001b[0m \u001b[1m0s\u001b[0m 4ms/step - accuracy: 0.8488 - loss: 0.3672 - val_accuracy: 0.8212 - val_loss: 0.4502\n",
      "Epoch 30/100\n",
      "\u001b[1m89/89\u001b[0m \u001b[32m━━━━━━━━━━━━━━━━━━━━\u001b[0m\u001b[37m\u001b[0m \u001b[1m0s\u001b[0m 3ms/step - accuracy: 0.8531 - loss: 0.3767 - val_accuracy: 0.8156 - val_loss: 0.4481\n",
      "Epoch 31/100\n",
      "\u001b[1m89/89\u001b[0m \u001b[32m━━━━━━━━━━━━━━━━━━━━\u001b[0m\u001b[37m\u001b[0m \u001b[1m0s\u001b[0m 3ms/step - accuracy: 0.8280 - loss: 0.4090 - val_accuracy: 0.8212 - val_loss: 0.4459\n",
      "Epoch 32/100\n",
      "\u001b[1m89/89\u001b[0m \u001b[32m━━━━━━━━━━━━━━━━━━━━\u001b[0m\u001b[37m\u001b[0m \u001b[1m0s\u001b[0m 3ms/step - accuracy: 0.8300 - loss: 0.3983 - val_accuracy: 0.8212 - val_loss: 0.4475\n",
      "Epoch 33/100\n",
      "\u001b[1m89/89\u001b[0m \u001b[32m━━━━━━━━━━━━━━━━━━━━\u001b[0m\u001b[37m\u001b[0m \u001b[1m0s\u001b[0m 3ms/step - accuracy: 0.8402 - loss: 0.3831 - val_accuracy: 0.8324 - val_loss: 0.4389\n",
      "Epoch 34/100\n",
      "\u001b[1m89/89\u001b[0m \u001b[32m━━━━━━━━━━━━━━━━━━━━\u001b[0m\u001b[37m\u001b[0m \u001b[1m0s\u001b[0m 3ms/step - accuracy: 0.8272 - loss: 0.3863 - val_accuracy: 0.8324 - val_loss: 0.4403\n",
      "Epoch 35/100\n",
      "\u001b[1m89/89\u001b[0m \u001b[32m━━━━━━━━━━━━━━━━━━━━\u001b[0m\u001b[37m\u001b[0m \u001b[1m0s\u001b[0m 4ms/step - accuracy: 0.8460 - loss: 0.3499 - val_accuracy: 0.8268 - val_loss: 0.4431\n",
      "Epoch 36/100\n",
      "\u001b[1m89/89\u001b[0m \u001b[32m━━━━━━━━━━━━━━━━━━━━\u001b[0m\u001b[37m\u001b[0m \u001b[1m0s\u001b[0m 3ms/step - accuracy: 0.8676 - loss: 0.3525 - val_accuracy: 0.8268 - val_loss: 0.4382\n",
      "Epoch 37/100\n",
      "\u001b[1m89/89\u001b[0m \u001b[32m━━━━━━━━━━━━━━━━━━━━\u001b[0m\u001b[37m\u001b[0m \u001b[1m0s\u001b[0m 4ms/step - accuracy: 0.8462 - loss: 0.3590 - val_accuracy: 0.8324 - val_loss: 0.4404\n",
      "Epoch 38/100\n",
      "\u001b[1m89/89\u001b[0m \u001b[32m━━━━━━━━━━━━━━━━━━━━\u001b[0m\u001b[37m\u001b[0m \u001b[1m0s\u001b[0m 3ms/step - accuracy: 0.8601 - loss: 0.3504 - val_accuracy: 0.8324 - val_loss: 0.4445\n",
      "Epoch 39/100\n",
      "\u001b[1m89/89\u001b[0m \u001b[32m━━━━━━━━━━━━━━━━━━━━\u001b[0m\u001b[37m\u001b[0m \u001b[1m0s\u001b[0m 3ms/step - accuracy: 0.8175 - loss: 0.3981 - val_accuracy: 0.8156 - val_loss: 0.4461\n",
      "Epoch 40/100\n",
      "\u001b[1m89/89\u001b[0m \u001b[32m━━━━━━━━━━━━━━━━━━━━\u001b[0m\u001b[37m\u001b[0m \u001b[1m0s\u001b[0m 3ms/step - accuracy: 0.8388 - loss: 0.3946 - val_accuracy: 0.8268 - val_loss: 0.4448\n",
      "Epoch 41/100\n",
      "\u001b[1m89/89\u001b[0m \u001b[32m━━━━━━━━━━━━━━━━━━━━\u001b[0m\u001b[37m\u001b[0m \u001b[1m0s\u001b[0m 3ms/step - accuracy: 0.8536 - loss: 0.3770 - val_accuracy: 0.8268 - val_loss: 0.4399\n",
      "Epoch 42/100\n",
      "\u001b[1m89/89\u001b[0m \u001b[32m━━━━━━━━━━━━━━━━━━━━\u001b[0m\u001b[37m\u001b[0m \u001b[1m0s\u001b[0m 3ms/step - accuracy: 0.8286 - loss: 0.3900 - val_accuracy: 0.8212 - val_loss: 0.4431\n",
      "Epoch 43/100\n",
      "\u001b[1m89/89\u001b[0m \u001b[32m━━━━━━━━━━━━━━━━━━━━\u001b[0m\u001b[37m\u001b[0m \u001b[1m0s\u001b[0m 3ms/step - accuracy: 0.8280 - loss: 0.3927 - val_accuracy: 0.8045 - val_loss: 0.4475\n",
      "Epoch 44/100\n",
      "\u001b[1m89/89\u001b[0m \u001b[32m━━━━━━━━━━━━━━━━━━━━\u001b[0m\u001b[37m\u001b[0m \u001b[1m0s\u001b[0m 3ms/step - accuracy: 0.8387 - loss: 0.3826 - val_accuracy: 0.8212 - val_loss: 0.4432\n",
      "Epoch 45/100\n",
      "\u001b[1m89/89\u001b[0m \u001b[32m━━━━━━━━━━━━━━━━━━━━\u001b[0m\u001b[37m\u001b[0m \u001b[1m0s\u001b[0m 3ms/step - accuracy: 0.8152 - loss: 0.3688 - val_accuracy: 0.8212 - val_loss: 0.4437\n",
      "Epoch 46/100\n",
      "\u001b[1m89/89\u001b[0m \u001b[32m━━━━━━━━━━━━━━━━━━━━\u001b[0m\u001b[37m\u001b[0m \u001b[1m0s\u001b[0m 3ms/step - accuracy: 0.8137 - loss: 0.4258 - val_accuracy: 0.8212 - val_loss: 0.4404\n",
      "Epoch 47/100\n",
      "\u001b[1m89/89\u001b[0m \u001b[32m━━━━━━━━━━━━━━━━━━━━\u001b[0m\u001b[37m\u001b[0m \u001b[1m0s\u001b[0m 3ms/step - accuracy: 0.8081 - loss: 0.4132 - val_accuracy: 0.8268 - val_loss: 0.4377\n",
      "Epoch 48/100\n",
      "\u001b[1m89/89\u001b[0m \u001b[32m━━━━━━━━━━━━━━━━━━━━\u001b[0m\u001b[37m\u001b[0m \u001b[1m0s\u001b[0m 3ms/step - accuracy: 0.8215 - loss: 0.3972 - val_accuracy: 0.8268 - val_loss: 0.4402\n",
      "Epoch 49/100\n",
      "\u001b[1m89/89\u001b[0m \u001b[32m━━━━━━━━━━━━━━━━━━━━\u001b[0m\u001b[37m\u001b[0m \u001b[1m0s\u001b[0m 3ms/step - accuracy: 0.8301 - loss: 0.3896 - val_accuracy: 0.8268 - val_loss: 0.4368\n",
      "Epoch 50/100\n",
      "\u001b[1m89/89\u001b[0m \u001b[32m━━━━━━━━━━━━━━━━━━━━\u001b[0m\u001b[37m\u001b[0m \u001b[1m0s\u001b[0m 3ms/step - accuracy: 0.8496 - loss: 0.3895 - val_accuracy: 0.8156 - val_loss: 0.4380\n",
      "Epoch 51/100\n",
      "\u001b[1m89/89\u001b[0m \u001b[32m━━━━━━━━━━━━━━━━━━━━\u001b[0m\u001b[37m\u001b[0m \u001b[1m0s\u001b[0m 3ms/step - accuracy: 0.8266 - loss: 0.3842 - val_accuracy: 0.8156 - val_loss: 0.4395\n",
      "Epoch 52/100\n",
      "\u001b[1m89/89\u001b[0m \u001b[32m━━━━━━━━━━━━━━━━━━━━\u001b[0m\u001b[37m\u001b[0m \u001b[1m0s\u001b[0m 3ms/step - accuracy: 0.8651 - loss: 0.3520 - val_accuracy: 0.8212 - val_loss: 0.4398\n",
      "Epoch 53/100\n",
      "\u001b[1m89/89\u001b[0m \u001b[32m━━━━━━━━━━━━━━━━━━━━\u001b[0m\u001b[37m\u001b[0m \u001b[1m0s\u001b[0m 3ms/step - accuracy: 0.8604 - loss: 0.3486 - val_accuracy: 0.8156 - val_loss: 0.4360\n",
      "Epoch 54/100\n",
      "\u001b[1m89/89\u001b[0m \u001b[32m━━━━━━━━━━━━━━━━━━━━\u001b[0m\u001b[37m\u001b[0m \u001b[1m0s\u001b[0m 3ms/step - accuracy: 0.8427 - loss: 0.3981 - val_accuracy: 0.8156 - val_loss: 0.4498\n",
      "Epoch 55/100\n",
      "\u001b[1m89/89\u001b[0m \u001b[32m━━━━━━━━━━━━━━━━━━━━\u001b[0m\u001b[37m\u001b[0m \u001b[1m0s\u001b[0m 3ms/step - accuracy: 0.8337 - loss: 0.3663 - val_accuracy: 0.8156 - val_loss: 0.4404\n",
      "Epoch 56/100\n",
      "\u001b[1m89/89\u001b[0m \u001b[32m━━━━━━━━━━━━━━━━━━━━\u001b[0m\u001b[37m\u001b[0m \u001b[1m0s\u001b[0m 3ms/step - accuracy: 0.8718 - loss: 0.3529 - val_accuracy: 0.8156 - val_loss: 0.4408\n",
      "Epoch 57/100\n",
      "\u001b[1m89/89\u001b[0m \u001b[32m━━━━━━━━━━━━━━━━━━━━\u001b[0m\u001b[37m\u001b[0m \u001b[1m0s\u001b[0m 3ms/step - accuracy: 0.8284 - loss: 0.3763 - val_accuracy: 0.8156 - val_loss: 0.4423\n",
      "Epoch 58/100\n",
      "\u001b[1m89/89\u001b[0m \u001b[32m━━━━━━━━━━━━━━━━━━━━\u001b[0m\u001b[37m\u001b[0m \u001b[1m0s\u001b[0m 4ms/step - accuracy: 0.8754 - loss: 0.3343 - val_accuracy: 0.8212 - val_loss: 0.4412\n",
      "Epoch 59/100\n",
      "\u001b[1m89/89\u001b[0m \u001b[32m━━━━━━━━━━━━━━━━━━━━\u001b[0m\u001b[37m\u001b[0m \u001b[1m0s\u001b[0m 4ms/step - accuracy: 0.8495 - loss: 0.3798 - val_accuracy: 0.8212 - val_loss: 0.4378\n",
      "Epoch 60/100\n",
      "\u001b[1m89/89\u001b[0m \u001b[32m━━━━━━━━━━━━━━━━━━━━\u001b[0m\u001b[37m\u001b[0m \u001b[1m0s\u001b[0m 4ms/step - accuracy: 0.8573 - loss: 0.3542 - val_accuracy: 0.8268 - val_loss: 0.4376\n",
      "Epoch 61/100\n",
      "\u001b[1m89/89\u001b[0m \u001b[32m━━━━━━━━━━━━━━━━━━━━\u001b[0m\u001b[37m\u001b[0m \u001b[1m0s\u001b[0m 3ms/step - accuracy: 0.8704 - loss: 0.3175 - val_accuracy: 0.8212 - val_loss: 0.4393\n",
      "Epoch 62/100\n",
      "\u001b[1m89/89\u001b[0m \u001b[32m━━━━━━━━━━━━━━━━━━━━\u001b[0m\u001b[37m\u001b[0m \u001b[1m0s\u001b[0m 3ms/step - accuracy: 0.8691 - loss: 0.3652 - val_accuracy: 0.8212 - val_loss: 0.4409\n",
      "Epoch 63/100\n",
      "\u001b[1m89/89\u001b[0m \u001b[32m━━━━━━━━━━━━━━━━━━━━\u001b[0m\u001b[37m\u001b[0m \u001b[1m0s\u001b[0m 3ms/step - accuracy: 0.8427 - loss: 0.3755 - val_accuracy: 0.8156 - val_loss: 0.4363\n",
      "Epoch 64/100\n",
      "\u001b[1m89/89\u001b[0m \u001b[32m━━━━━━━━━━━━━━━━━━━━\u001b[0m\u001b[37m\u001b[0m \u001b[1m0s\u001b[0m 4ms/step - accuracy: 0.8399 - loss: 0.3836 - val_accuracy: 0.8101 - val_loss: 0.4398\n",
      "Epoch 65/100\n",
      "\u001b[1m89/89\u001b[0m \u001b[32m━━━━━━━━━━━━━━━━━━━━\u001b[0m\u001b[37m\u001b[0m \u001b[1m0s\u001b[0m 4ms/step - accuracy: 0.8734 - loss: 0.3196 - val_accuracy: 0.8101 - val_loss: 0.4363\n",
      "Epoch 66/100\n",
      "\u001b[1m89/89\u001b[0m \u001b[32m━━━━━━━━━━━━━━━━━━━━\u001b[0m\u001b[37m\u001b[0m \u001b[1m0s\u001b[0m 4ms/step - accuracy: 0.8566 - loss: 0.3521 - val_accuracy: 0.8380 - val_loss: 0.4351\n",
      "Epoch 67/100\n",
      "\u001b[1m89/89\u001b[0m \u001b[32m━━━━━━━━━━━━━━━━━━━━\u001b[0m\u001b[37m\u001b[0m \u001b[1m0s\u001b[0m 4ms/step - accuracy: 0.8452 - loss: 0.3609 - val_accuracy: 0.8324 - val_loss: 0.4425\n",
      "Epoch 68/100\n",
      "\u001b[1m89/89\u001b[0m \u001b[32m━━━━━━━━━━━━━━━━━━━━\u001b[0m\u001b[37m\u001b[0m \u001b[1m0s\u001b[0m 4ms/step - accuracy: 0.8534 - loss: 0.3779 - val_accuracy: 0.8436 - val_loss: 0.4393\n",
      "Epoch 69/100\n",
      "\u001b[1m89/89\u001b[0m \u001b[32m━━━━━━━━━━━━━━━━━━━━\u001b[0m\u001b[37m\u001b[0m \u001b[1m0s\u001b[0m 4ms/step - accuracy: 0.8518 - loss: 0.4109 - val_accuracy: 0.8380 - val_loss: 0.4326\n",
      "Epoch 70/100\n",
      "\u001b[1m89/89\u001b[0m \u001b[32m━━━━━━━━━━━━━━━━━━━━\u001b[0m\u001b[37m\u001b[0m \u001b[1m0s\u001b[0m 3ms/step - accuracy: 0.8392 - loss: 0.3910 - val_accuracy: 0.8268 - val_loss: 0.4349\n",
      "Epoch 71/100\n",
      "\u001b[1m89/89\u001b[0m \u001b[32m━━━━━━━━━━━━━━━━━━━━\u001b[0m\u001b[37m\u001b[0m \u001b[1m0s\u001b[0m 3ms/step - accuracy: 0.8304 - loss: 0.3772 - val_accuracy: 0.8324 - val_loss: 0.4354\n",
      "Epoch 72/100\n",
      "\u001b[1m89/89\u001b[0m \u001b[32m━━━━━━━━━━━━━━━━━━━━\u001b[0m\u001b[37m\u001b[0m \u001b[1m0s\u001b[0m 3ms/step - accuracy: 0.8374 - loss: 0.3562 - val_accuracy: 0.8380 - val_loss: 0.4365\n",
      "Epoch 73/100\n",
      "\u001b[1m89/89\u001b[0m \u001b[32m━━━━━━━━━━━━━━━━━━━━\u001b[0m\u001b[37m\u001b[0m \u001b[1m0s\u001b[0m 3ms/step - accuracy: 0.8409 - loss: 0.3633 - val_accuracy: 0.8324 - val_loss: 0.4429\n",
      "Epoch 74/100\n",
      "\u001b[1m89/89\u001b[0m \u001b[32m━━━━━━━━━━━━━━━━━━━━\u001b[0m\u001b[37m\u001b[0m \u001b[1m0s\u001b[0m 3ms/step - accuracy: 0.8506 - loss: 0.3502 - val_accuracy: 0.8268 - val_loss: 0.4427\n",
      "Epoch 75/100\n",
      "\u001b[1m89/89\u001b[0m \u001b[32m━━━━━━━━━━━━━━━━━━━━\u001b[0m\u001b[37m\u001b[0m \u001b[1m0s\u001b[0m 3ms/step - accuracy: 0.8580 - loss: 0.3520 - val_accuracy: 0.8324 - val_loss: 0.4392\n",
      "Epoch 76/100\n",
      "\u001b[1m89/89\u001b[0m \u001b[32m━━━━━━━━━━━━━━━━━━━━\u001b[0m\u001b[37m\u001b[0m \u001b[1m0s\u001b[0m 3ms/step - accuracy: 0.8334 - loss: 0.3885 - val_accuracy: 0.8212 - val_loss: 0.4394\n",
      "Epoch 77/100\n",
      "\u001b[1m89/89\u001b[0m \u001b[32m━━━━━━━━━━━━━━━━━━━━\u001b[0m\u001b[37m\u001b[0m \u001b[1m0s\u001b[0m 3ms/step - accuracy: 0.8657 - loss: 0.3298 - val_accuracy: 0.8156 - val_loss: 0.4391\n",
      "Epoch 78/100\n",
      "\u001b[1m89/89\u001b[0m \u001b[32m━━━━━━━━━━━━━━━━━━━━\u001b[0m\u001b[37m\u001b[0m \u001b[1m0s\u001b[0m 3ms/step - accuracy: 0.8643 - loss: 0.3259 - val_accuracy: 0.8101 - val_loss: 0.4399\n",
      "Epoch 79/100\n",
      "\u001b[1m89/89\u001b[0m \u001b[32m━━━━━━━━━━━━━━━━━━━━\u001b[0m\u001b[37m\u001b[0m \u001b[1m0s\u001b[0m 3ms/step - accuracy: 0.8432 - loss: 0.3617 - val_accuracy: 0.8212 - val_loss: 0.4333\n",
      "Epoch 80/100\n",
      "\u001b[1m89/89\u001b[0m \u001b[32m━━━━━━━━━━━━━━━━━━━━\u001b[0m\u001b[37m\u001b[0m \u001b[1m0s\u001b[0m 3ms/step - accuracy: 0.8464 - loss: 0.3464 - val_accuracy: 0.8101 - val_loss: 0.4455\n",
      "Epoch 81/100\n",
      "\u001b[1m89/89\u001b[0m \u001b[32m━━━━━━━━━━━━━━━━━━━━\u001b[0m\u001b[37m\u001b[0m \u001b[1m0s\u001b[0m 3ms/step - accuracy: 0.8737 - loss: 0.3258 - val_accuracy: 0.7989 - val_loss: 0.4473\n",
      "Epoch 82/100\n",
      "\u001b[1m89/89\u001b[0m \u001b[32m━━━━━━━━━━━━━━━━━━━━\u001b[0m\u001b[37m\u001b[0m \u001b[1m0s\u001b[0m 3ms/step - accuracy: 0.8364 - loss: 0.3629 - val_accuracy: 0.8101 - val_loss: 0.4393\n",
      "Epoch 83/100\n",
      "\u001b[1m89/89\u001b[0m \u001b[32m━━━━━━━━━━━━━━━━━━━━\u001b[0m\u001b[37m\u001b[0m \u001b[1m0s\u001b[0m 3ms/step - accuracy: 0.8477 - loss: 0.3688 - val_accuracy: 0.8101 - val_loss: 0.4385\n",
      "Epoch 84/100\n",
      "\u001b[1m89/89\u001b[0m \u001b[32m━━━━━━━━━━━━━━━━━━━━\u001b[0m\u001b[37m\u001b[0m \u001b[1m0s\u001b[0m 3ms/step - accuracy: 0.8460 - loss: 0.3406 - val_accuracy: 0.8156 - val_loss: 0.4388\n",
      "Epoch 85/100\n",
      "\u001b[1m89/89\u001b[0m \u001b[32m━━━━━━━━━━━━━━━━━━━━\u001b[0m\u001b[37m\u001b[0m \u001b[1m0s\u001b[0m 4ms/step - accuracy: 0.8505 - loss: 0.3705 - val_accuracy: 0.8212 - val_loss: 0.4370\n",
      "Epoch 86/100\n",
      "\u001b[1m89/89\u001b[0m \u001b[32m━━━━━━━━━━━━━━━━━━━━\u001b[0m\u001b[37m\u001b[0m \u001b[1m0s\u001b[0m 4ms/step - accuracy: 0.8391 - loss: 0.3815 - val_accuracy: 0.8156 - val_loss: 0.4317\n",
      "Epoch 87/100\n",
      "\u001b[1m89/89\u001b[0m \u001b[32m━━━━━━━━━━━━━━━━━━━━\u001b[0m\u001b[37m\u001b[0m \u001b[1m0s\u001b[0m 3ms/step - accuracy: 0.8373 - loss: 0.3735 - val_accuracy: 0.8268 - val_loss: 0.4366\n",
      "Epoch 88/100\n",
      "\u001b[1m89/89\u001b[0m \u001b[32m━━━━━━━━━━━━━━━━━━━━\u001b[0m\u001b[37m\u001b[0m \u001b[1m0s\u001b[0m 3ms/step - accuracy: 0.8654 - loss: 0.3458 - val_accuracy: 0.8101 - val_loss: 0.4360\n",
      "Epoch 89/100\n",
      "\u001b[1m89/89\u001b[0m \u001b[32m━━━━━━━━━━━━━━━━━━━━\u001b[0m\u001b[37m\u001b[0m \u001b[1m0s\u001b[0m 3ms/step - accuracy: 0.8584 - loss: 0.3365 - val_accuracy: 0.8156 - val_loss: 0.4385\n",
      "Epoch 90/100\n",
      "\u001b[1m89/89\u001b[0m \u001b[32m━━━━━━━━━━━━━━━━━━━━\u001b[0m\u001b[37m\u001b[0m \u001b[1m0s\u001b[0m 3ms/step - accuracy: 0.8645 - loss: 0.3658 - val_accuracy: 0.8045 - val_loss: 0.4464\n",
      "Epoch 91/100\n",
      "\u001b[1m89/89\u001b[0m \u001b[32m━━━━━━━━━━━━━━━━━━━━\u001b[0m\u001b[37m\u001b[0m \u001b[1m0s\u001b[0m 4ms/step - accuracy: 0.8531 - loss: 0.3746 - val_accuracy: 0.8045 - val_loss: 0.4405\n",
      "Epoch 92/100\n",
      "\u001b[1m89/89\u001b[0m \u001b[32m━━━━━━━━━━━━━━━━━━━━\u001b[0m\u001b[37m\u001b[0m \u001b[1m0s\u001b[0m 3ms/step - accuracy: 0.8408 - loss: 0.3562 - val_accuracy: 0.7989 - val_loss: 0.4441\n",
      "Epoch 93/100\n",
      "\u001b[1m89/89\u001b[0m \u001b[32m━━━━━━━━━━━━━━━━━━━━\u001b[0m\u001b[37m\u001b[0m \u001b[1m0s\u001b[0m 3ms/step - accuracy: 0.8481 - loss: 0.3818 - val_accuracy: 0.7989 - val_loss: 0.4427\n",
      "Epoch 94/100\n",
      "\u001b[1m89/89\u001b[0m \u001b[32m━━━━━━━━━━━━━━━━━━━━\u001b[0m\u001b[37m\u001b[0m \u001b[1m0s\u001b[0m 3ms/step - accuracy: 0.8391 - loss: 0.3878 - val_accuracy: 0.7933 - val_loss: 0.4509\n",
      "Epoch 95/100\n",
      "\u001b[1m89/89\u001b[0m \u001b[32m━━━━━━━━━━━━━━━━━━━━\u001b[0m\u001b[37m\u001b[0m \u001b[1m0s\u001b[0m 3ms/step - accuracy: 0.8421 - loss: 0.3418 - val_accuracy: 0.7989 - val_loss: 0.4512\n",
      "Epoch 96/100\n",
      "\u001b[1m89/89\u001b[0m \u001b[32m━━━━━━━━━━━━━━━━━━━━\u001b[0m\u001b[37m\u001b[0m \u001b[1m0s\u001b[0m 3ms/step - accuracy: 0.8442 - loss: 0.3413 - val_accuracy: 0.7933 - val_loss: 0.4489\n",
      "Epoch 97/100\n",
      "\u001b[1m89/89\u001b[0m \u001b[32m━━━━━━━━━━━━━━━━━━━━\u001b[0m\u001b[37m\u001b[0m \u001b[1m0s\u001b[0m 3ms/step - accuracy: 0.8770 - loss: 0.3107 - val_accuracy: 0.7877 - val_loss: 0.4460\n",
      "Epoch 98/100\n",
      "\u001b[1m89/89\u001b[0m \u001b[32m━━━━━━━━━━━━━━━━━━━━\u001b[0m\u001b[37m\u001b[0m \u001b[1m0s\u001b[0m 4ms/step - accuracy: 0.8089 - loss: 0.4046 - val_accuracy: 0.7989 - val_loss: 0.4431\n",
      "Epoch 99/100\n",
      "\u001b[1m89/89\u001b[0m \u001b[32m━━━━━━━━━━━━━━━━━━━━\u001b[0m\u001b[37m\u001b[0m \u001b[1m0s\u001b[0m 4ms/step - accuracy: 0.8506 - loss: 0.3456 - val_accuracy: 0.8045 - val_loss: 0.4393\n",
      "Epoch 100/100\n",
      "\u001b[1m89/89\u001b[0m \u001b[32m━━━━━━━━━━━━━━━━━━━━\u001b[0m\u001b[37m\u001b[0m \u001b[1m0s\u001b[0m 3ms/step - accuracy: 0.8727 - loss: 0.3184 - val_accuracy: 0.7989 - val_loss: 0.4367\n",
      "🔥 Training Accuracy: 0.8567415475845337\n",
      "🧪 Validation Accuracy: 0.7988826632499695\n",
      "\u001b[1m14/14\u001b[0m \u001b[32m━━━━━━━━━━━━━━━━━━━━\u001b[0m\u001b[37m\u001b[0m \u001b[1m0s\u001b[0m 7ms/step\n",
      "🧊 Test Predictions: [0 0 0 0 0 0 1 0 1 0 0 0 1 0 1 1 0 0 0 1 0 1 1 0 1 0 1 0 0 0 0 0 0 0 1 0 0\n",
      " 0 0 1 0 0 0 1 1 0 0 0 1 0 1 0 1 1 0 0 0 0 0 1 0 0 0 1 0 1 1 0 1 1 1 0 0 1\n",
      " 1 0 0 1 0 1 1 0 0 0 0 0 1 1 1 1 0 0 1 0 0 0 1 0 0 0 1 0 0 0 1 0 0 0 0 1 0\n",
      " 1 1 1 1 0 0 1 0 1 1 0 1 0 0 1 0 1 0 0 0 0 0 0 0 0 0 0 0 0 0 1 0 0 0 0 0 0\n",
      " 0 0 1 0 0 0 0 0 1 0 0 0 1 1 1 0 0 0 0 0 1 0 0 0 0 0 0 1 1 1 1 1 0 1 1 0 1\n",
      " 0 1 0 0 0 0 0 0 0 1 0 1 1 0 0 1 1 0 1 0 0 0 0 1 0 0 0 0 1 0 0 1 0 1 0 1 0\n",
      " 1 0 1 0 0 1 0 0 0 1 0 0 1 0 0 0 1 1 1 1 0 0 1 1 1 0 1 0 1 0 1 0 0 0 0 0 1\n",
      " 0 0 0 1 1 0 0 0 0 0 0 0 0 1 1 0 1 0 0 0 0 0 1 1 1 1 0 0 1 0 0 0 1 0 0 0 0\n",
      " 1 0 0 0 0 1 0 0 1 1 1 1 0 0 0 0 0 0 1 1 0 0 0 0 0 1 0 0 1 0 1 0 0 0 1 1 0\n",
      " 0 0 0 0 0 0 1 0 0 0 1 1 1 0 1 0 1 1 0 0 0 1 0 1 0 0 0 0 1 1 0 1 0 0 1 1 0\n",
      " 0 1 0 0 1 1 0 0 0 0 0 0 0 0 0 1 0 0 0 0 0 1 0 0 0 1 0 1 0 0 1 0 1 0 1 1 0\n",
      " 0 1 1 1 1 0 0 1 0 0 1]\n",
      "📁 Final Output:\n",
      "   PassengerId  Survived\n",
      "0          892         0\n",
      "1          893         0\n",
      "2          894         0\n",
      "3          895         0\n",
      "4          896         0\n"
     ]
    }
   ],
   "source": [
    "from tensorflow.keras.callbacks import EarlyStopping\n",
    "input_dim = X_train.shape[1]\n",
    "num_classes = len(Y_train.unique())  # 2 in your case\n",
    "# early_stop = EarlyStopping(patience=10, restore_best_weights=True)\n",
    "nn_model = Sequential([\n",
    "    Input(shape=(input_dim,)),\n",
    "    Dense(64, activation='relu'),\n",
    "    Dropout(0.3),\n",
    "    Dense(32, activation='relu'),\n",
    "    Dropout(0.3),\n",
    "    Dense(16, activation='relu'),\n",
    "    Dense(num_classes, activation='softmax')\n",
    "])\n",
    "\n",
    "nn_model.compile(\n",
    "    optimizer='adam',\n",
    "    loss='sparse_categorical_crossentropy',\n",
    "    metrics=['accuracy']\n",
    ")\n",
    "\n",
    "history = nn_model.fit(X_train, Y_train, epochs=100, batch_size=8, validation_data=(X_val, Y_val))\n",
    "\n",
    "\n",
    "\n",
    "# 6. Evaluate accuracy\n",
    "train_acc = history.history['accuracy'][-1]\n",
    "val_acc = history.history['val_accuracy'][-1]\n",
    "\n",
    "print(f\"🔥 Training Accuracy: {train_acc}\")\n",
    "print(f\"🧪 Validation Accuracy: {val_acc}\")\n",
    "\n",
    "nn_test_proba = nn_model.predict(X_TEST)\n",
    "nn_test = np.argmax(nn_test_proba, axis=1)\n",
    "print(\"🧊 Test Predictions:\", nn_test)\n",
    "output = pd.DataFrame({\n",
    "    'PassengerId': titanic_test_dataset['PassengerId'],\n",
    "    'Survived': nn_test\n",
    "})\n",
    "output.to_csv('titanic_nn_test_predictions.csv', index=False)\n",
    "print(\"📁 Final Output:\")\n",
    "print(output.head())"
   ]
  },
  {
   "cell_type": "code",
   "execution_count": 10,
   "id": "81742154",
   "metadata": {
    "execution": {
     "iopub.execute_input": "2025-05-24T20:23:58.838718Z",
     "iopub.status.busy": "2025-05-24T20:23:58.838385Z",
     "iopub.status.idle": "2025-05-24T20:23:58.940477Z",
     "shell.execute_reply": "2025-05-24T20:23:58.939402Z"
    },
    "papermill": {
     "duration": 0.139576,
     "end_time": "2025-05-24T20:23:58.942262",
     "exception": false,
     "start_time": "2025-05-24T20:23:58.802686",
     "status": "completed"
    },
    "tags": []
   },
   "outputs": [
    {
     "name": "stdout",
     "output_type": "stream",
     "text": [
      "🔥 Training Accuracy: 0.8609550561797753\n",
      "🧪 Validation Accuracy: 0.8100558659217877\n",
      "🧊 Test Predictions: [0 0 0 0 0 0 1 0 1 0 0 0 1 0 1 1 0 0 0 0 0 0 1 0 1 0 1 0 0 0 0 0 0 0 0 0 0\n",
      " 0 0 0 0 1 0 1 1 0 0 0 1 0 0 0 1 1 0 0 0 0 0 1 0 0 0 1 1 1 1 0 0 1 1 0 0 0\n",
      " 1 0 0 1 0 1 0 0 0 0 0 0 1 0 1 1 0 0 1 0 0 0 1 0 1 0 1 0 0 0 1 0 0 0 0 0 0\n",
      " 1 1 1 1 0 0 1 0 1 1 0 1 0 0 0 0 1 0 0 0 0 0 0 0 0 0 0 0 0 0 1 0 0 0 0 0 0\n",
      " 0 0 1 0 0 0 0 0 1 1 1 0 1 0 1 0 0 0 0 0 1 0 0 0 0 0 0 1 1 0 1 1 0 0 1 0 1\n",
      " 0 1 0 0 0 0 0 0 0 0 0 1 1 0 0 1 1 0 1 0 0 1 0 1 0 0 0 0 1 0 0 1 0 1 0 1 0\n",
      " 1 0 1 0 0 1 0 0 0 1 0 0 0 0 0 0 1 1 1 1 0 0 0 0 1 0 1 0 1 0 0 0 0 0 0 0 1\n",
      " 0 0 0 1 1 0 0 0 0 0 0 0 0 1 1 0 1 0 0 0 0 0 1 1 1 1 0 0 0 0 0 0 1 0 0 0 0\n",
      " 1 0 0 0 0 0 0 0 1 1 0 1 0 0 0 0 0 1 1 1 0 0 0 0 0 0 0 0 1 0 1 0 0 0 1 0 0\n",
      " 1 0 0 0 0 0 0 0 0 0 1 0 1 0 1 0 1 1 0 0 0 1 0 1 0 0 0 0 1 1 0 1 0 0 0 1 0\n",
      " 0 1 0 0 1 1 0 0 0 0 0 0 0 0 0 1 0 0 0 0 0 1 0 0 0 1 0 1 0 0 1 0 1 0 0 0 0\n",
      " 0 1 1 1 1 0 0 1 0 0 1]\n",
      "📁 Final Output:\n",
      "   PassengerId  Survived\n",
      "0          892         0\n",
      "1          893         0\n",
      "2          894         0\n",
      "3          895         0\n",
      "4          896         0\n"
     ]
    }
   ],
   "source": [
    "xgb_model = XGBClassifier(\n",
    "    n_estimators=50,\n",
    "    max_depth=4,\n",
    "    learning_rate=0.05,\n",
    "    use_label_encoder=False,\n",
    "    eval_metric='logloss',\n",
    "    random_state=2\n",
    ")\n",
    "xgb_model.fit(X_train, Y_train)\n",
    "X_train_prediction = xgb_model.predict(X_train)\n",
    "X_val_prediction = xgb_model.predict(X_val)\n",
    "print('🔥 Training Accuracy:', accuracy_score(Y_train, X_train_prediction))\n",
    "print('🧪 Validation Accuracy:', accuracy_score(Y_val, X_val_prediction))\n",
    "\n",
    "xgb_test = xgb_model.predict(X_TEST)\n",
    "print(\"🧊 Test Predictions:\", xgb_test)\n",
    "output = pd.DataFrame({\n",
    "    'PassengerId': titanic_test_dataset['PassengerId'],\n",
    "    'Survived': xgb_test\n",
    "})\n",
    "output.to_csv('titanic_xgb_test_predictions.csv', index=False)\n",
    "print(\"📁 Final Output:\")\n",
    "print(output.head())"
   ]
  },
  {
   "cell_type": "code",
   "execution_count": null,
   "id": "7af1b08c",
   "metadata": {
    "papermill": {
     "duration": 0.034362,
     "end_time": "2025-05-24T20:23:59.011821",
     "exception": false,
     "start_time": "2025-05-24T20:23:58.977459",
     "status": "completed"
    },
    "tags": []
   },
   "outputs": [],
   "source": []
  }
 ],
 "metadata": {
  "kaggle": {
   "accelerator": "none",
   "dataSources": [
    {
     "datasetId": 7501315,
     "sourceId": 11931440,
     "sourceType": "datasetVersion"
    },
    {
     "datasetId": 7501320,
     "sourceId": 11931445,
     "sourceType": "datasetVersion"
    }
   ],
   "dockerImageVersionId": 31040,
   "isGpuEnabled": false,
   "isInternetEnabled": false,
   "language": "python",
   "sourceType": "notebook"
  },
  "kernelspec": {
   "display_name": "Python 3",
   "language": "python",
   "name": "python3"
  },
  "language_info": {
   "codemirror_mode": {
    "name": "ipython",
    "version": 3
   },
   "file_extension": ".py",
   "mimetype": "text/x-python",
   "name": "python",
   "nbconvert_exporter": "python",
   "pygments_lexer": "ipython3",
   "version": "3.11.11"
  },
  "papermill": {
   "default_parameters": {},
   "duration": 71.257416,
   "end_time": "2025-05-24T20:24:02.072287",
   "environment_variables": {},
   "exception": null,
   "input_path": "__notebook__.ipynb",
   "output_path": "__notebook__.ipynb",
   "parameters": {},
   "start_time": "2025-05-24T20:22:50.814871",
   "version": "2.6.0"
  }
 },
 "nbformat": 4,
 "nbformat_minor": 5
}
